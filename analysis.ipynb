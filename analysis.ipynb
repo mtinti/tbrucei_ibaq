{
 "cells": [
  {
   "cell_type": "code",
   "execution_count": 36,
   "metadata": {},
   "outputs": [
    {
     "name": "stdout",
     "output_type": "stream",
     "text": [
      "The rpy2.ipython extension is already loaded. To reload it, use:\n",
      "  %reload_ext rpy2.ipython\n"
     ]
    }
   ],
   "source": [
    "%load_ext rpy2.ipython\n",
    "%matplotlib inline"
   ]
  },
  {
   "cell_type": "code",
   "execution_count": 1,
   "metadata": {},
   "outputs": [],
   "source": [
    "#set up code\n",
    "import sys\n",
    "sys.path.append('../ProLib')\n",
    "from ProteomicsUtility import utilities as PTUT\n",
    "import ProtRank\n",
    "import warnings\n",
    "warnings.filterwarnings(\"ignore\")\n",
    "#define helphttp://localhost:8888/notebooks/calvin/new_data/analysis_427_2018.ipynb#ing function\n",
    "import os\n",
    "from tqdm import tqdm_notebook\n",
    "from sklearn.decomposition import PCA\n",
    "from sklearn.manifold import MDS\n",
    "from adjustText import adjust_text\n",
    "from matplotlib.lines import Line2D\n",
    "from Bio import SeqIO\n",
    "import pandas as pd\n",
    "import numpy as np\n",
    "from scipy.stats import ttest_ind\n",
    "import matplotlib.pyplot as plt\n",
    "import seaborn as sns\n",
    "import os\n",
    "import missingno as msno\n",
    "plt.style.use('ggplot')"
   ]
  },
  {
   "cell_type": "code",
   "execution_count": null,
   "metadata": {},
   "outputs": [],
   "source": []
  },
  {
   "cell_type": "code",
   "execution_count": 2,
   "metadata": {},
   "outputs": [],
   "source": [
    "OUT_FOLDER = '927/'"
   ]
  },
  {
   "cell_type": "code",
   "execution_count": 3,
   "metadata": {},
   "outputs": [
    {
     "name": "stdout",
     "output_type": "stream",
     "text": [
      "starting from: (7075, 1507)\n",
      "removed  222 Protein Groups by: Only identified by site\n",
      "tot  222  entries removed\n",
      "---------------\n",
      "removed  67 Protein Groups by: Reverse\n",
      "tot  289  entries removed\n",
      "---------------\n",
      "removed  143 Protein Groups by: Potential contaminant\n",
      "tot  432  entries removed\n",
      "---------------\n",
      "Score\n",
      "nothing removed\n",
      "---------------\n",
      "Peptide counts (razor+unique)\n",
      "nothing removed\n",
      "---------------\n"
     ]
    }
   ],
   "source": [
    "df = pd.read_csv('927/proteinGroups_ibaq.txt',sep='\\t')\n",
    "df = PTUT.clean_df(df, score=-1, unique_pep_threshold=-1)"
   ]
  },
  {
   "cell_type": "code",
   "execution_count": 4,
   "metadata": {},
   "outputs": [
    {
     "data": {
      "text/html": [
       "<div>\n",
       "<style scoped>\n",
       "    .dataframe tbody tr th:only-of-type {\n",
       "        vertical-align: middle;\n",
       "    }\n",
       "\n",
       "    .dataframe tbody tr th {\n",
       "        vertical-align: top;\n",
       "    }\n",
       "\n",
       "    .dataframe thead th {\n",
       "        text-align: right;\n",
       "    }\n",
       "</style>\n",
       "<table border=\"1\" class=\"dataframe\">\n",
       "  <thead>\n",
       "    <tr style=\"text-align: right;\">\n",
       "      <th></th>\n",
       "      <th>BSF_1</th>\n",
       "      <th>BSF_10</th>\n",
       "      <th>BSF_11</th>\n",
       "      <th>BSF_12</th>\n",
       "      <th>BSF_13</th>\n",
       "      <th>BSF_14</th>\n",
       "      <th>BSF_15</th>\n",
       "      <th>BSF_16</th>\n",
       "      <th>BSF_17</th>\n",
       "      <th>BSF_18</th>\n",
       "      <th>...</th>\n",
       "      <th>PCF_25</th>\n",
       "      <th>PCF_26</th>\n",
       "      <th>PCF_27</th>\n",
       "      <th>PCF_3</th>\n",
       "      <th>PCF_4</th>\n",
       "      <th>PCF_5</th>\n",
       "      <th>PCF_6</th>\n",
       "      <th>PCF_7</th>\n",
       "      <th>PCF_8</th>\n",
       "      <th>PCF_9</th>\n",
       "    </tr>\n",
       "  </thead>\n",
       "  <tbody>\n",
       "    <tr>\n",
       "      <th>163</th>\n",
       "      <td>NaN</td>\n",
       "      <td>NaN</td>\n",
       "      <td>NaN</td>\n",
       "      <td>NaN</td>\n",
       "      <td>NaN</td>\n",
       "      <td>NaN</td>\n",
       "      <td>NaN</td>\n",
       "      <td>NaN</td>\n",
       "      <td>NaN</td>\n",
       "      <td>NaN</td>\n",
       "      <td>...</td>\n",
       "      <td>18573000.0</td>\n",
       "      <td>20727000.0</td>\n",
       "      <td>11592000.0</td>\n",
       "      <td>15733000.0</td>\n",
       "      <td>13488000.0</td>\n",
       "      <td>8017600.0</td>\n",
       "      <td>23501000.0</td>\n",
       "      <td>3685100.0</td>\n",
       "      <td>7971900.0</td>\n",
       "      <td>33116000.0</td>\n",
       "    </tr>\n",
       "    <tr>\n",
       "      <th>164</th>\n",
       "      <td>11530000.0</td>\n",
       "      <td>16113000.0</td>\n",
       "      <td>15700000.0</td>\n",
       "      <td>12597000.0</td>\n",
       "      <td>11177000.0</td>\n",
       "      <td>16781000.0</td>\n",
       "      <td>14136000.0</td>\n",
       "      <td>17894000.0</td>\n",
       "      <td>14760000.0</td>\n",
       "      <td>14883000.0</td>\n",
       "      <td>...</td>\n",
       "      <td>NaN</td>\n",
       "      <td>NaN</td>\n",
       "      <td>NaN</td>\n",
       "      <td>NaN</td>\n",
       "      <td>NaN</td>\n",
       "      <td>NaN</td>\n",
       "      <td>NaN</td>\n",
       "      <td>NaN</td>\n",
       "      <td>NaN</td>\n",
       "      <td>NaN</td>\n",
       "    </tr>\n",
       "    <tr>\n",
       "      <th>165</th>\n",
       "      <td>NaN</td>\n",
       "      <td>NaN</td>\n",
       "      <td>NaN</td>\n",
       "      <td>NaN</td>\n",
       "      <td>NaN</td>\n",
       "      <td>7710.2</td>\n",
       "      <td>17054.0</td>\n",
       "      <td>7753.4</td>\n",
       "      <td>21114.0</td>\n",
       "      <td>3657.2</td>\n",
       "      <td>...</td>\n",
       "      <td>NaN</td>\n",
       "      <td>NaN</td>\n",
       "      <td>NaN</td>\n",
       "      <td>NaN</td>\n",
       "      <td>NaN</td>\n",
       "      <td>NaN</td>\n",
       "      <td>NaN</td>\n",
       "      <td>NaN</td>\n",
       "      <td>NaN</td>\n",
       "      <td>NaN</td>\n",
       "    </tr>\n",
       "    <tr>\n",
       "      <th>166</th>\n",
       "      <td>4941.2</td>\n",
       "      <td>81635.0</td>\n",
       "      <td>57929.0</td>\n",
       "      <td>NaN</td>\n",
       "      <td>20322.0</td>\n",
       "      <td>29168.0</td>\n",
       "      <td>14464.0</td>\n",
       "      <td>NaN</td>\n",
       "      <td>NaN</td>\n",
       "      <td>NaN</td>\n",
       "      <td>...</td>\n",
       "      <td>NaN</td>\n",
       "      <td>NaN</td>\n",
       "      <td>NaN</td>\n",
       "      <td>NaN</td>\n",
       "      <td>NaN</td>\n",
       "      <td>NaN</td>\n",
       "      <td>NaN</td>\n",
       "      <td>NaN</td>\n",
       "      <td>NaN</td>\n",
       "      <td>NaN</td>\n",
       "    </tr>\n",
       "    <tr>\n",
       "      <th>167</th>\n",
       "      <td>75872.0</td>\n",
       "      <td>113910.0</td>\n",
       "      <td>118140.0</td>\n",
       "      <td>82414.0</td>\n",
       "      <td>75623.0</td>\n",
       "      <td>97324.0</td>\n",
       "      <td>101580.0</td>\n",
       "      <td>85075.0</td>\n",
       "      <td>75567.0</td>\n",
       "      <td>82928.0</td>\n",
       "      <td>...</td>\n",
       "      <td>NaN</td>\n",
       "      <td>NaN</td>\n",
       "      <td>NaN</td>\n",
       "      <td>NaN</td>\n",
       "      <td>NaN</td>\n",
       "      <td>NaN</td>\n",
       "      <td>NaN</td>\n",
       "      <td>NaN</td>\n",
       "      <td>NaN</td>\n",
       "      <td>NaN</td>\n",
       "    </tr>\n",
       "  </tbody>\n",
       "</table>\n",
       "<p>5 rows × 48 columns</p>\n",
       "</div>"
      ],
      "text/plain": [
       "          BSF_1      BSF_10      BSF_11      BSF_12      BSF_13      BSF_14      BSF_15      BSF_16      BSF_17      BSF_18     ...          PCF_25  \\\n",
       "163         NaN         NaN         NaN         NaN         NaN         NaN         NaN         NaN         NaN         NaN     ...      18573000.0   \n",
       "164  11530000.0  16113000.0  15700000.0  12597000.0  11177000.0  16781000.0  14136000.0  17894000.0  14760000.0  14883000.0     ...             NaN   \n",
       "165         NaN         NaN         NaN         NaN         NaN      7710.2     17054.0      7753.4     21114.0      3657.2     ...             NaN   \n",
       "166      4941.2     81635.0     57929.0         NaN     20322.0     29168.0     14464.0         NaN         NaN         NaN     ...             NaN   \n",
       "167     75872.0    113910.0    118140.0     82414.0     75623.0     97324.0    101580.0     85075.0     75567.0     82928.0     ...             NaN   \n",
       "\n",
       "         PCF_26      PCF_27       PCF_3       PCF_4      PCF_5       PCF_6      PCF_7      PCF_8       PCF_9  \n",
       "163  20727000.0  11592000.0  15733000.0  13488000.0  8017600.0  23501000.0  3685100.0  7971900.0  33116000.0  \n",
       "164         NaN         NaN         NaN         NaN        NaN         NaN        NaN        NaN         NaN  \n",
       "165         NaN         NaN         NaN         NaN        NaN         NaN        NaN        NaN         NaN  \n",
       "166         NaN         NaN         NaN         NaN        NaN         NaN        NaN        NaN         NaN  \n",
       "167         NaN         NaN         NaN         NaN        NaN         NaN        NaN        NaN         NaN  \n",
       "\n",
       "[5 rows x 48 columns]"
      ]
     },
     "execution_count": 4,
     "metadata": {},
     "output_type": "execute_result"
    }
   ],
   "source": [
    "bsf_cols = [n for n in  list(df.columns) if 'iBAQ H BSF' in n]\n",
    "bsf = df[bsf_cols]\n",
    "bsf.columns = [n.split(' ')[-1] for n in bsf.columns]\n",
    "bsf_cols = bsf.columns\n",
    "pcf_cols = [n for n in  list(df.columns) if 'iBAQ H PCF' in n]\n",
    "pcf = df[pcf_cols]\n",
    "pcf.columns = [n.split(' ')[-1] for n in pcf.columns]\n",
    "pcf_cols = pcf.columns\n",
    "bsf = bsf.replace(0,np.nan)\n",
    "pcf = pcf.replace(0,np.nan)\n",
    "bsf.head()\n",
    "merge = pd.concat([bsf,pcf],axis=1)\n",
    "merge.head()"
   ]
  },
  {
   "cell_type": "code",
   "execution_count": 25,
   "metadata": {},
   "outputs": [
    {
     "data": {
      "image/png": "[encoded data removed]",
      "text/plain": [
       "<Figure size 864x432 with 3 Axes>"
      ]
     },
     "metadata": {},
     "output_type": "display_data"
    }
   ],
   "source": [
    "import missingno as msno\n",
    "#visualization of missing data\n",
    "ax=msno.bar(merge,figsize=(12, 6))\n",
    "plt.title('Missing Data Analysis', size=12)\n",
    "ax.set_ylabel('Fraction of data points',size=12)\n",
    "plt.savefig(os.path.join(OUT_FOLDER,'1_missing_value.png'))\n",
    "plt.tight_layout()\n",
    "plt.show()"
   ]
  },
  {
   "cell_type": "code",
   "execution_count": 26,
   "metadata": {},
   "outputs": [
    {
     "data": {
      "image/png": "[encoded data removed]",
      "text/plain": [
       "<Figure size 864x432 with 2 Axes>"
      ]
     },
     "metadata": {},
     "output_type": "display_data"
    }
   ],
   "source": [
    "#print(data.shape)\n",
    "msno.matrix(merge, figsize=(12, 6))\n",
    "#plt.title('Missing Data')\n",
    "plt.savefig(os.path.join(OUT_FOLDER,'missing_value_matrix.png'))\n",
    "plt.show()"
   ]
  },
  {
   "cell_type": "code",
   "execution_count": 15,
   "metadata": {},
   "outputs": [
    {
     "data": {
      "image/png": "[encoded data removed]",
      "text/plain": [
       "<Figure size 432x288 with 1 Axes>"
      ]
     },
     "metadata": {},
     "output_type": "display_data"
    }
   ],
   "source": [
    "mean_intesity = np.log10(merge.mean(axis=1))\n",
    "na_sum = merge.isna().sum(axis=1).astype(int)\n",
    "plt.scatter(mean_intesity,na_sum)\n",
    "plt.xlabel('Log-Intensity')\n",
    "plt.ylabel('missing_values')\n",
    "plt.title('intensity vs missing values')\n",
    "plt.show()"
   ]
  },
  {
   "cell_type": "code",
   "execution_count": 16,
   "metadata": {},
   "outputs": [
    {
     "data": {
      "image/png": "[encoded data removed]",
      "text/plain": [
       "<Figure size 864x288 with 1 Axes>"
      ]
     },
     "metadata": {},
     "output_type": "display_data"
    }
   ],
   "source": [
    "palette=['r']*len(bsf_cols)+['b']*len(pcf_cols)\n",
    "palette_g = ['r','b']\n",
    "color_dictionary = {'r':'BSF','b':'PCF'}\n",
    "\n",
    "\n",
    "fig,ax=plt.subplots(figsize=(12,4))\n",
    "sns.boxplot(data=np.log10(merge),showfliers=False,palette=palette,ax=ax)\n",
    "plt.title('Value Distribution')\n",
    "plt.xlabel('Log10 LFQ')\n",
    "plt.xticks(rotation=45,ha='right')\n",
    "plt.savefig(os.path.join(OUT_FOLDER,'4_value_distribution_box.png'))\n",
    "plt.show()"
   ]
  },
  {
   "cell_type": "code",
   "execution_count": 38,
   "metadata": {},
   "outputs": [
    {
     "data": {
      "image/png": "[encoded data removed]",
      "text/plain": [
       "<Figure size 864x288 with 1 Axes>"
      ]
     },
     "metadata": {
      "needs_background": "light"
     },
     "output_type": "display_data"
    }
   ],
   "source": [
    "#https://codereview.stackexchange.com/questions/25417/is-there-a-better-way-to-make-a-function-silent-on-need\n",
    "class NoStdStreams(object):\n",
    "    def __init__(self, stdout = None, stderr = None):\n",
    "        self.devnull = open(os.devnull,'w')\n",
    "        self._stdout = stdout or self.devnull or sys.stdout\n",
    "        self._stderr = stderr or self.devnull or sys.stderr\n",
    "\n",
    "    def __enter__(self):\n",
    "        self.old_stdout, self.old_stderr = sys.stdout, sys.stderr\n",
    "        self.old_stdout.flush(); self.old_stderr.flush()\n",
    "        sys.stdout, sys.stderr = self._stdout, self._stderr\n",
    "\n",
    "    def __exit__(self, exc_type, exc_value, traceback):\n",
    "        self._stdout.flush(); self._stderr.flush()\n",
    "        sys.stdout = self.old_stdout\n",
    "        sys.stderr = self.old_stderr\n",
    "        self.devnull.close()\n",
    "\n",
    "with NoStdStreams():\n",
    "    merge_normed = PTUT.norm_loading(merge)\n",
    "\n",
    "fig,ax=plt.subplots(figsize=(12,4))\n",
    "sns.boxplot(data=np.log10(merge_normed),showfliers=False,palette=palette,ax=ax)\n",
    "plt.title('Value Distribution')\n",
    "plt.xlabel('Log10 LFQ')\n",
    "plt.xticks(rotation=45,ha='right')\n",
    "plt.savefig(os.path.join(OUT_FOLDER,'4_value_distribution_box.png'))\n",
    "plt.show()"
   ]
  },
  {
   "cell_type": "code",
   "execution_count": 39,
   "metadata": {},
   "outputs": [],
   "source": [
    "#merge_normed['bsf_median']=merge_normed[bsf_cols].median(axis=1,skipna=True)\n",
    "#merge_normed['pcf_median']=merge_normed[pcf_cols].median(axis=1,skipna=True)\n",
    "#merge_normed.head()"
   ]
  },
  {
   "cell_type": "code",
   "execution_count": 40,
   "metadata": {},
   "outputs": [
    {
     "data": {
      "text/html": [
       "<div>\n",
       "<style scoped>\n",
       "    .dataframe tbody tr th:only-of-type {\n",
       "        vertical-align: middle;\n",
       "    }\n",
       "\n",
       "    .dataframe tbody tr th {\n",
       "        vertical-align: top;\n",
       "    }\n",
       "\n",
       "    .dataframe thead th {\n",
       "        text-align: right;\n",
       "    }\n",
       "</style>\n",
       "<table border=\"1\" class=\"dataframe\">\n",
       "  <thead>\n",
       "    <tr style=\"text-align: right;\">\n",
       "      <th></th>\n",
       "      <th>BSF_1</th>\n",
       "      <th>BSF_10</th>\n",
       "      <th>BSF_11</th>\n",
       "      <th>BSF_12</th>\n",
       "      <th>BSF_13</th>\n",
       "      <th>BSF_14</th>\n",
       "      <th>BSF_15</th>\n",
       "      <th>BSF_16</th>\n",
       "      <th>BSF_17</th>\n",
       "      <th>BSF_18</th>\n",
       "      <th>...</th>\n",
       "      <th>PCF_25</th>\n",
       "      <th>PCF_26</th>\n",
       "      <th>PCF_27</th>\n",
       "      <th>PCF_3</th>\n",
       "      <th>PCF_4</th>\n",
       "      <th>PCF_5</th>\n",
       "      <th>PCF_6</th>\n",
       "      <th>PCF_7</th>\n",
       "      <th>PCF_8</th>\n",
       "      <th>PCF_9</th>\n",
       "    </tr>\n",
       "  </thead>\n",
       "  <tbody>\n",
       "    <tr>\n",
       "      <th>163</th>\n",
       "      <td>NaN</td>\n",
       "      <td>NaN</td>\n",
       "      <td>NaN</td>\n",
       "      <td>NaN</td>\n",
       "      <td>NaN</td>\n",
       "      <td>NaN</td>\n",
       "      <td>NaN</td>\n",
       "      <td>NaN</td>\n",
       "      <td>NaN</td>\n",
       "      <td>NaN</td>\n",
       "      <td>...</td>\n",
       "      <td>7.034222</td>\n",
       "      <td>7.129269</td>\n",
       "      <td>6.818942</td>\n",
       "      <td>7.076467</td>\n",
       "      <td>6.900299</td>\n",
       "      <td>6.577278</td>\n",
       "      <td>6.999386</td>\n",
       "      <td>6.34199</td>\n",
       "      <td>6.782959</td>\n",
       "      <td>7.330628</td>\n",
       "    </tr>\n",
       "    <tr>\n",
       "      <th>164</th>\n",
       "      <td>7.501275</td>\n",
       "      <td>7.505302</td>\n",
       "      <td>7.486695</td>\n",
       "      <td>7.520282</td>\n",
       "      <td>7.393861</td>\n",
       "      <td>7.578973</td>\n",
       "      <td>7.561735</td>\n",
       "      <td>7.690670</td>\n",
       "      <td>7.576066</td>\n",
       "      <td>7.541315</td>\n",
       "      <td>...</td>\n",
       "      <td>NaN</td>\n",
       "      <td>NaN</td>\n",
       "      <td>NaN</td>\n",
       "      <td>NaN</td>\n",
       "      <td>NaN</td>\n",
       "      <td>NaN</td>\n",
       "      <td>NaN</td>\n",
       "      <td>NaN</td>\n",
       "      <td>NaN</td>\n",
       "      <td>NaN</td>\n",
       "    </tr>\n",
       "    <tr>\n",
       "      <th>165</th>\n",
       "      <td>NaN</td>\n",
       "      <td>NaN</td>\n",
       "      <td>NaN</td>\n",
       "      <td>NaN</td>\n",
       "      <td>NaN</td>\n",
       "      <td>4.241221</td>\n",
       "      <td>4.643235</td>\n",
       "      <td>4.327455</td>\n",
       "      <td>4.731550</td>\n",
       "      <td>3.931773</td>\n",
       "      <td>...</td>\n",
       "      <td>NaN</td>\n",
       "      <td>NaN</td>\n",
       "      <td>NaN</td>\n",
       "      <td>NaN</td>\n",
       "      <td>NaN</td>\n",
       "      <td>NaN</td>\n",
       "      <td>NaN</td>\n",
       "      <td>NaN</td>\n",
       "      <td>NaN</td>\n",
       "      <td>NaN</td>\n",
       "    </tr>\n",
       "    <tr>\n",
       "      <th>166</th>\n",
       "      <td>4.133278</td>\n",
       "      <td>5.210002</td>\n",
       "      <td>5.053691</td>\n",
       "      <td>NaN</td>\n",
       "      <td>4.653502</td>\n",
       "      <td>4.819062</td>\n",
       "      <td>4.571697</td>\n",
       "      <td>NaN</td>\n",
       "      <td>NaN</td>\n",
       "      <td>NaN</td>\n",
       "      <td>...</td>\n",
       "      <td>NaN</td>\n",
       "      <td>NaN</td>\n",
       "      <td>NaN</td>\n",
       "      <td>NaN</td>\n",
       "      <td>NaN</td>\n",
       "      <td>NaN</td>\n",
       "      <td>NaN</td>\n",
       "      <td>NaN</td>\n",
       "      <td>NaN</td>\n",
       "      <td>NaN</td>\n",
       "    </tr>\n",
       "    <tr>\n",
       "      <th>167</th>\n",
       "      <td>5.319528</td>\n",
       "      <td>5.354688</td>\n",
       "      <td>5.363192</td>\n",
       "      <td>5.336016</td>\n",
       "      <td>5.224190</td>\n",
       "      <td>5.342375</td>\n",
       "      <td>5.418217</td>\n",
       "      <td>5.367765</td>\n",
       "      <td>5.285312</td>\n",
       "      <td>5.287325</td>\n",
       "      <td>...</td>\n",
       "      <td>NaN</td>\n",
       "      <td>NaN</td>\n",
       "      <td>NaN</td>\n",
       "      <td>NaN</td>\n",
       "      <td>NaN</td>\n",
       "      <td>NaN</td>\n",
       "      <td>NaN</td>\n",
       "      <td>NaN</td>\n",
       "      <td>NaN</td>\n",
       "      <td>NaN</td>\n",
       "    </tr>\n",
       "  </tbody>\n",
       "</table>\n",
       "<p>5 rows × 48 columns</p>\n",
       "</div>"
      ],
      "text/plain": [
       "        BSF_1    BSF_10    BSF_11    BSF_12    BSF_13    BSF_14    BSF_15    BSF_16    BSF_17    BSF_18    ...       PCF_25    PCF_26    PCF_27     PCF_3  \\\n",
       "163       NaN       NaN       NaN       NaN       NaN       NaN       NaN       NaN       NaN       NaN    ...     7.034222  7.129269  6.818942  7.076467   \n",
       "164  7.501275  7.505302  7.486695  7.520282  7.393861  7.578973  7.561735  7.690670  7.576066  7.541315    ...          NaN       NaN       NaN       NaN   \n",
       "165       NaN       NaN       NaN       NaN       NaN  4.241221  4.643235  4.327455  4.731550  3.931773    ...          NaN       NaN       NaN       NaN   \n",
       "166  4.133278  5.210002  5.053691       NaN  4.653502  4.819062  4.571697       NaN       NaN       NaN    ...          NaN       NaN       NaN       NaN   \n",
       "167  5.319528  5.354688  5.363192  5.336016  5.224190  5.342375  5.418217  5.367765  5.285312  5.287325    ...          NaN       NaN       NaN       NaN   \n",
       "\n",
       "        PCF_4     PCF_5     PCF_6    PCF_7     PCF_8     PCF_9  \n",
       "163  6.900299  6.577278  6.999386  6.34199  6.782959  7.330628  \n",
       "164       NaN       NaN       NaN      NaN       NaN       NaN  \n",
       "165       NaN       NaN       NaN      NaN       NaN       NaN  \n",
       "166       NaN       NaN       NaN      NaN       NaN       NaN  \n",
       "167       NaN       NaN       NaN      NaN       NaN       NaN  \n",
       "\n",
       "[5 rows x 48 columns]"
      ]
     },
     "execution_count": 40,
     "metadata": {},
     "output_type": "execute_result"
    }
   ],
   "source": [
    "log_merge_normed = np.log10(merge_normed)\n",
    "log_merge_normed.head()"
   ]
  },
  {
   "cell_type": "code",
   "execution_count": 41,
   "metadata": {},
   "outputs": [
    {
     "data": {
      "text/plain": [
       "  missForest iteration 1 in progress...done!\n",
       "  missForest iteration 2 in progress...done!\n",
       "  missForest iteration 3 in progress...done!\n",
       "  missForest iteration 4 in progress...done!\n",
       "  missForest iteration 5 in progress...done!\n",
       "  missForest iteration 6 in progress...done!\n",
       "  missForest iteration 7 in progress...done!\n",
       "  missForest iteration 8 in progress...done!\n",
       "  missForest iteration 9 in progress...done!\n",
       "  missForest iteration 10 in progress...done!\n"
      ]
     },
     "metadata": {},
     "output_type": "display_data"
    }
   ],
   "source": [
    "%%R -i log_merge_normed\n",
    "options(warn=-1)\n",
    "library(\"missForest\")\n",
    "library(\"doParallel\")\n",
    "registerDoParallel(cores=6)\n",
    "imputed_X <- missForest(log_merge_normed, ntree = 50, parallelize = \"forests\" )$ximp\n"
   ]
  },
  {
   "cell_type": "code",
   "execution_count": 42,
   "metadata": {},
   "outputs": [
    {
     "data": {
      "text/html": [
       "<div>\n",
       "<style scoped>\n",
       "    .dataframe tbody tr th:only-of-type {\n",
       "        vertical-align: middle;\n",
       "    }\n",
       "\n",
       "    .dataframe tbody tr th {\n",
       "        vertical-align: top;\n",
       "    }\n",
       "\n",
       "    .dataframe thead th {\n",
       "        text-align: right;\n",
       "    }\n",
       "</style>\n",
       "<table border=\"1\" class=\"dataframe\">\n",
       "  <thead>\n",
       "    <tr style=\"text-align: right;\">\n",
       "      <th></th>\n",
       "      <th>BSF_1</th>\n",
       "      <th>BSF_10</th>\n",
       "      <th>BSF_11</th>\n",
       "      <th>BSF_12</th>\n",
       "      <th>BSF_13</th>\n",
       "      <th>BSF_14</th>\n",
       "      <th>BSF_15</th>\n",
       "      <th>BSF_16</th>\n",
       "      <th>BSF_17</th>\n",
       "      <th>BSF_18</th>\n",
       "      <th>...</th>\n",
       "      <th>PCF_25</th>\n",
       "      <th>PCF_26</th>\n",
       "      <th>PCF_27</th>\n",
       "      <th>PCF_3</th>\n",
       "      <th>PCF_4</th>\n",
       "      <th>PCF_5</th>\n",
       "      <th>PCF_6</th>\n",
       "      <th>PCF_7</th>\n",
       "      <th>PCF_8</th>\n",
       "      <th>PCF_9</th>\n",
       "    </tr>\n",
       "  </thead>\n",
       "  <tbody>\n",
       "    <tr>\n",
       "      <th>163</th>\n",
       "      <td>5.551680</td>\n",
       "      <td>5.593679</td>\n",
       "      <td>5.443258</td>\n",
       "      <td>5.451128</td>\n",
       "      <td>5.570693</td>\n",
       "      <td>5.584836</td>\n",
       "      <td>5.544396</td>\n",
       "      <td>5.638799</td>\n",
       "      <td>5.599815</td>\n",
       "      <td>5.627937</td>\n",
       "      <td>...</td>\n",
       "      <td>7.034222</td>\n",
       "      <td>7.129269</td>\n",
       "      <td>6.818942</td>\n",
       "      <td>7.076467</td>\n",
       "      <td>6.900299</td>\n",
       "      <td>6.577278</td>\n",
       "      <td>6.999386</td>\n",
       "      <td>6.341990</td>\n",
       "      <td>6.782959</td>\n",
       "      <td>7.330628</td>\n",
       "    </tr>\n",
       "    <tr>\n",
       "      <th>164</th>\n",
       "      <td>7.501275</td>\n",
       "      <td>7.505302</td>\n",
       "      <td>7.486695</td>\n",
       "      <td>7.520282</td>\n",
       "      <td>7.393861</td>\n",
       "      <td>7.578973</td>\n",
       "      <td>7.561735</td>\n",
       "      <td>7.690670</td>\n",
       "      <td>7.576066</td>\n",
       "      <td>7.541315</td>\n",
       "      <td>...</td>\n",
       "      <td>5.164036</td>\n",
       "      <td>5.273730</td>\n",
       "      <td>5.047028</td>\n",
       "      <td>5.221884</td>\n",
       "      <td>5.221522</td>\n",
       "      <td>5.234504</td>\n",
       "      <td>5.160612</td>\n",
       "      <td>5.278185</td>\n",
       "      <td>5.114584</td>\n",
       "      <td>5.212008</td>\n",
       "    </tr>\n",
       "    <tr>\n",
       "      <th>165</th>\n",
       "      <td>4.252521</td>\n",
       "      <td>4.344118</td>\n",
       "      <td>3.937760</td>\n",
       "      <td>4.379077</td>\n",
       "      <td>4.460870</td>\n",
       "      <td>4.241221</td>\n",
       "      <td>4.643235</td>\n",
       "      <td>4.327455</td>\n",
       "      <td>4.731550</td>\n",
       "      <td>3.931773</td>\n",
       "      <td>...</td>\n",
       "      <td>5.454153</td>\n",
       "      <td>5.392496</td>\n",
       "      <td>5.219119</td>\n",
       "      <td>5.094332</td>\n",
       "      <td>5.108368</td>\n",
       "      <td>5.101938</td>\n",
       "      <td>5.022434</td>\n",
       "      <td>5.098609</td>\n",
       "      <td>5.071156</td>\n",
       "      <td>5.044093</td>\n",
       "    </tr>\n",
       "    <tr>\n",
       "      <th>166</th>\n",
       "      <td>4.133278</td>\n",
       "      <td>5.210002</td>\n",
       "      <td>5.053691</td>\n",
       "      <td>5.055875</td>\n",
       "      <td>4.653502</td>\n",
       "      <td>4.819062</td>\n",
       "      <td>4.571697</td>\n",
       "      <td>4.836373</td>\n",
       "      <td>4.735120</td>\n",
       "      <td>4.786403</td>\n",
       "      <td>...</td>\n",
       "      <td>5.284022</td>\n",
       "      <td>5.310129</td>\n",
       "      <td>5.166282</td>\n",
       "      <td>5.120365</td>\n",
       "      <td>5.042949</td>\n",
       "      <td>5.030828</td>\n",
       "      <td>5.080929</td>\n",
       "      <td>5.222217</td>\n",
       "      <td>5.121692</td>\n",
       "      <td>5.056294</td>\n",
       "    </tr>\n",
       "    <tr>\n",
       "      <th>167</th>\n",
       "      <td>5.319528</td>\n",
       "      <td>5.354688</td>\n",
       "      <td>5.363192</td>\n",
       "      <td>5.336016</td>\n",
       "      <td>5.224190</td>\n",
       "      <td>5.342375</td>\n",
       "      <td>5.418217</td>\n",
       "      <td>5.367765</td>\n",
       "      <td>5.285312</td>\n",
       "      <td>5.287325</td>\n",
       "      <td>...</td>\n",
       "      <td>5.078609</td>\n",
       "      <td>5.032822</td>\n",
       "      <td>5.113134</td>\n",
       "      <td>5.080398</td>\n",
       "      <td>4.996079</td>\n",
       "      <td>5.090834</td>\n",
       "      <td>5.110332</td>\n",
       "      <td>5.224666</td>\n",
       "      <td>5.083431</td>\n",
       "      <td>5.044709</td>\n",
       "    </tr>\n",
       "  </tbody>\n",
       "</table>\n",
       "<p>5 rows × 48 columns</p>\n",
       "</div>"
      ],
      "text/plain": [
       "        BSF_1    BSF_10    BSF_11    BSF_12    BSF_13    BSF_14    BSF_15    BSF_16    BSF_17    BSF_18    ...       PCF_25    PCF_26    PCF_27     PCF_3  \\\n",
       "163  5.551680  5.593679  5.443258  5.451128  5.570693  5.584836  5.544396  5.638799  5.599815  5.627937    ...     7.034222  7.129269  6.818942  7.076467   \n",
       "164  7.501275  7.505302  7.486695  7.520282  7.393861  7.578973  7.561735  7.690670  7.576066  7.541315    ...     5.164036  5.273730  5.047028  5.221884   \n",
       "165  4.252521  4.344118  3.937760  4.379077  4.460870  4.241221  4.643235  4.327455  4.731550  3.931773    ...     5.454153  5.392496  5.219119  5.094332   \n",
       "166  4.133278  5.210002  5.053691  5.055875  4.653502  4.819062  4.571697  4.836373  4.735120  4.786403    ...     5.284022  5.310129  5.166282  5.120365   \n",
       "167  5.319528  5.354688  5.363192  5.336016  5.224190  5.342375  5.418217  5.367765  5.285312  5.287325    ...     5.078609  5.032822  5.113134  5.080398   \n",
       "\n",
       "        PCF_4     PCF_5     PCF_6     PCF_7     PCF_8     PCF_9  \n",
       "163  6.900299  6.577278  6.999386  6.341990  6.782959  7.330628  \n",
       "164  5.221522  5.234504  5.160612  5.278185  5.114584  5.212008  \n",
       "165  5.108368  5.101938  5.022434  5.098609  5.071156  5.044093  \n",
       "166  5.042949  5.030828  5.080929  5.222217  5.121692  5.056294  \n",
       "167  4.996079  5.090834  5.110332  5.224666  5.083431  5.044709  \n",
       "\n",
       "[5 rows x 48 columns]"
      ]
     },
     "execution_count": 42,
     "metadata": {},
     "output_type": "execute_result"
    }
   ],
   "source": [
    "%R -o imputed_X  \n",
    "imputed_X.index = merge.index\n",
    "imputed_X.head()"
   ]
  },
  {
   "cell_type": "code",
   "execution_count": 46,
   "metadata": {},
   "outputs": [],
   "source": [
    "#imputed_X.loc[[172]].plot(kind='bar')"
   ]
  },
  {
   "cell_type": "code",
   "execution_count": 47,
   "metadata": {},
   "outputs": [],
   "source": [
    "#fig,ax=plt.subplots(figsize=(8,8))\n",
    "#imputed_X.plot(kind='scatter',x='log_pcf_median',y='log_bsf_median',ax=ax)\n",
    "#imputed_X.loc[[172]].plot(kind='scatter',x='log_pcf_median',y='log_bsf_median',ax=ax,c='r')"
   ]
  },
  {
   "cell_type": "code",
   "execution_count": 48,
   "metadata": {},
   "outputs": [],
   "source": [
    "imputed_X['bsf_median']=imputed_X[bsf_cols].median(axis=1)\n",
    "imputed_X['pcf_median']=imputed_X[pcf_cols].median(axis=1)"
   ]
  },
  {
   "cell_type": "code",
   "execution_count": 50,
   "metadata": {},
   "outputs": [],
   "source": [
    "imputed_X['rank_bsf_median']=imputed_X['bsf_median'].rank(method='min')\n",
    "imputed_X['rank_pcf_median']=imputed_X['pcf_median'].rank(method='min')"
   ]
  },
  {
   "cell_type": "code",
   "execution_count": 52,
   "metadata": {},
   "outputs": [
    {
     "data": {
      "text/plain": [
       "<AxesSubplot:xlabel='bsf_median', ylabel='pcf_median'>"
      ]
     },
     "execution_count": 52,
     "metadata": {},
     "output_type": "execute_result"
    },
    {
     "data": {
      "image/png": "[encoded data removed]",
      "text/plain": [
       "<Figure size 576x576 with 1 Axes>"
      ]
     },
     "metadata": {
      "needs_background": "light"
     },
     "output_type": "display_data"
    }
   ],
   "source": [
    "fig,ax=plt.subplots(figsize=(8,8))\n",
    "imputed_X.plot(kind='scatter',x='bsf_median',y='pcf_median',ax=ax)\n",
    "imputed_X.loc[[172]].plot(kind='scatter',x='bsf_median',y='pcf_median',ax=ax,c='r')"
   ]
  },
  {
   "cell_type": "code",
   "execution_count": 53,
   "metadata": {},
   "outputs": [
    {
     "data": {
      "text/plain": [
       "<AxesSubplot:xlabel='rank_bsf_median', ylabel='rank_pcf_median'>"
      ]
     },
     "execution_count": 53,
     "metadata": {},
     "output_type": "execute_result"
    },
    {
     "data": {
      "image/png": "[encoded data removed]",
      "text/plain": [
       "<Figure size 576x576 with 1 Axes>"
      ]
     },
     "metadata": {
      "needs_background": "light"
     },
     "output_type": "display_data"
    }
   ],
   "source": [
    "fig,ax=plt.subplots(figsize=(8,8))\n",
    "imputed_X.plot(kind='scatter',x='rank_bsf_median',y='rank_pcf_median',ax=ax)\n",
    "imputed_X.loc[[172]].plot(kind='scatter',x='rank_bsf_median',y='rank_pcf_median',ax=ax,c='r')"
   ]
  },
  {
   "cell_type": "code",
   "execution_count": 59,
   "metadata": {},
   "outputs": [
    {
     "data": {
      "text/html": [
       "<div>\n",
       "<style scoped>\n",
       "    .dataframe tbody tr th:only-of-type {\n",
       "        vertical-align: middle;\n",
       "    }\n",
       "\n",
       "    .dataframe tbody tr th {\n",
       "        vertical-align: top;\n",
       "    }\n",
       "\n",
       "    .dataframe thead th {\n",
       "        text-align: right;\n",
       "    }\n",
       "</style>\n",
       "<table border=\"1\" class=\"dataframe\">\n",
       "  <thead>\n",
       "    <tr style=\"text-align: right;\">\n",
       "      <th></th>\n",
       "      <th>Protein IDs</th>\n",
       "      <th>Majority protein IDs</th>\n",
       "      <th>Peptide counts (all)</th>\n",
       "      <th>Peptide counts (razor+unique)</th>\n",
       "      <th>Peptide counts (unique)</th>\n",
       "      <th>Fasta headers</th>\n",
       "      <th>Number of proteins</th>\n",
       "      <th>Peptides</th>\n",
       "      <th>Razor + unique peptides</th>\n",
       "      <th>Unique peptides</th>\n",
       "      <th>...</th>\n",
       "      <th>id</th>\n",
       "      <th>Peptide IDs</th>\n",
       "      <th>Peptide is razor</th>\n",
       "      <th>Mod. peptide IDs</th>\n",
       "      <th>Evidence IDs</th>\n",
       "      <th>MS/MS IDs</th>\n",
       "      <th>Best MS/MS</th>\n",
       "      <th>Oxidation (M) site IDs</th>\n",
       "      <th>Oxidation (M) site positions</th>\n",
       "      <th>unique_int</th>\n",
       "    </tr>\n",
       "  </thead>\n",
       "  <tbody>\n",
       "    <tr>\n",
       "      <th>163</th>\n",
       "      <td>gene-Tb427.BES40.1</td>\n",
       "      <td>gene-Tb427.BES40.1</td>\n",
       "      <td>12</td>\n",
       "      <td>12</td>\n",
       "      <td>12</td>\n",
       "      <td>gene-Tb427.BES40.1 lcl|FM162566.1_prot_CAQ5727...</td>\n",
       "      <td>1</td>\n",
       "      <td>12</td>\n",
       "      <td>12</td>\n",
       "      <td>12</td>\n",
       "      <td>...</td>\n",
       "      <td>163</td>\n",
       "      <td>3020;29323;42773;43014;51958;68122;76679;82146...</td>\n",
       "      <td>True;True;True;True;True;True;True;True;True;T...</td>\n",
       "      <td>3324;32339;47073;47352;57107;75564;85952;91692...</td>\n",
       "      <td>102897;102898;102899;102900;102901;102902;1029...</td>\n",
       "      <td>165259;165260;165261;165262;165263;165264;1652...</td>\n",
       "      <td>165281;1363160;1984376;1991954;2438470;3159155...</td>\n",
       "      <td>188;189</td>\n",
       "      <td>1;26</td>\n",
       "      <td>12</td>\n",
       "    </tr>\n",
       "    <tr>\n",
       "      <th>164</th>\n",
       "      <td>gene-Tb427.BES40.10;Tb11.57.0050.1-p1;Tb11.114...</td>\n",
       "      <td>gene-Tb427.BES40.10</td>\n",
       "      <td>21;3;3;2;2;2;2;2;2;2;2;2;2;1;1;1;1</td>\n",
       "      <td>9;0;1;0;0;0;1;0;0;0;0;0;0;1;0;1;0</td>\n",
       "      <td>4;0;0;0;0;0;0;0;0;0;0;0;0;0;0;0;0</td>\n",
       "      <td>gene-Tb427.BES40.10 lcl|FM162566.1_prot_CAQ572...</td>\n",
       "      <td>17</td>\n",
       "      <td>21</td>\n",
       "      <td>9</td>\n",
       "      <td>4</td>\n",
       "      <td>...</td>\n",
       "      <td>164</td>\n",
       "      <td>16215;20764;23323;29656;37679;38919;38920;4239...</td>\n",
       "      <td>True;False;True;False;True;False;False;False;F...</td>\n",
       "      <td>17860;22874;25655;25656;32689;41526;41527;4288...</td>\n",
       "      <td>488182;488183;488184;488185;488186;488187;4881...</td>\n",
       "      <td>791739;791740;791741;791742;791743;791744;7917...</td>\n",
       "      <td>791748;992098;1103432;1381081;1755688;1811935;...</td>\n",
       "      <td>190;191;192;193;194;195</td>\n",
       "      <td>78;130;155;157;171;272</td>\n",
       "      <td>9</td>\n",
       "    </tr>\n",
       "    <tr>\n",
       "      <th>165</th>\n",
       "      <td>gene-Tb427.BES40.13</td>\n",
       "      <td>gene-Tb427.BES40.13</td>\n",
       "      <td>26</td>\n",
       "      <td>5</td>\n",
       "      <td>5</td>\n",
       "      <td>gene-Tb427.BES40.13 lcl|FM162566.1_prot_CAQ572...</td>\n",
       "      <td>1</td>\n",
       "      <td>26</td>\n",
       "      <td>5</td>\n",
       "      <td>5</td>\n",
       "      <td>...</td>\n",
       "      <td>165</td>\n",
       "      <td>116;1821;2098;16505;17506;25684;30750;31406;40...</td>\n",
       "      <td>False;False;False;False;False;False;False;Fals...</td>\n",
       "      <td>133;2015;2319;18239;19320;28356;33862;34593;44...</td>\n",
       "      <td>5432;5433;5434;5435;5436;5437;5438;5439;66180;...</td>\n",
       "      <td>9446;9447;9448;9449;9450;9451;9452;9453;108937...</td>\n",
       "      <td>9448;108964;124043;806094;847770;1199020;14344...</td>\n",
       "      <td>196;197</td>\n",
       "      <td>953;1101</td>\n",
       "      <td>5</td>\n",
       "    </tr>\n",
       "    <tr>\n",
       "      <th>166</th>\n",
       "      <td>gene-Tb427.BES40.14</td>\n",
       "      <td>gene-Tb427.BES40.14</td>\n",
       "      <td>30</td>\n",
       "      <td>3</td>\n",
       "      <td>3</td>\n",
       "      <td>gene-Tb427.BES40.14 lcl|FM162566.1_prot_CAQ572...</td>\n",
       "      <td>1</td>\n",
       "      <td>30</td>\n",
       "      <td>3</td>\n",
       "      <td>3</td>\n",
       "      <td>...</td>\n",
       "      <td>166</td>\n",
       "      <td>11404;15484;15844;22545;23527;23535;23795;2552...</td>\n",
       "      <td>False;False;False;False;False;False;False;Fals...</td>\n",
       "      <td>12642;17031;17420;24810;24811;25882;25890;2616...</td>\n",
       "      <td>363031;363032;363033;363034;363035;363036;4672...</td>\n",
       "      <td>594168;594169;594170;594171;594172;594173;7587...</td>\n",
       "      <td>594172;758739;773702;1067305;1113497;1113620;1...</td>\n",
       "      <td>198;199;200</td>\n",
       "      <td>9;68;85</td>\n",
       "      <td>3</td>\n",
       "    </tr>\n",
       "    <tr>\n",
       "      <th>167</th>\n",
       "      <td>gene-Tb427.BES40.15</td>\n",
       "      <td>gene-Tb427.BES40.15</td>\n",
       "      <td>31</td>\n",
       "      <td>1</td>\n",
       "      <td>0</td>\n",
       "      <td>gene-Tb427.BES40.15 lcl|FM162566.1_prot_CAQ572...</td>\n",
       "      <td>1</td>\n",
       "      <td>31</td>\n",
       "      <td>1</td>\n",
       "      <td>0</td>\n",
       "      <td>...</td>\n",
       "      <td>167</td>\n",
       "      <td>11404;11833;15484;15844;22545;23527;23535;2379...</td>\n",
       "      <td>False;False;False;False;False;False;False;Fals...</td>\n",
       "      <td>12642;13090;17031;17420;24810;24811;25882;2589...</td>\n",
       "      <td>363031;363032;363033;363034;363035;363036;3692...</td>\n",
       "      <td>594168;594169;594170;594171;594172;594173;6042...</td>\n",
       "      <td>594172;604222;758739;773702;1067305;1113497;11...</td>\n",
       "      <td>198;199;200</td>\n",
       "      <td>9;68;85</td>\n",
       "      <td>1</td>\n",
       "    </tr>\n",
       "  </tbody>\n",
       "</table>\n",
       "<p>5 rows × 1508 columns</p>\n",
       "</div>"
      ],
      "text/plain": [
       "                                           Protein IDs Majority protein IDs                Peptide counts (all)      Peptide counts (razor+unique)  \\\n",
       "163                                 gene-Tb427.BES40.1   gene-Tb427.BES40.1                                  12                                 12   \n",
       "164  gene-Tb427.BES40.10;Tb11.57.0050.1-p1;Tb11.114...  gene-Tb427.BES40.10  21;3;3;2;2;2;2;2;2;2;2;2;2;1;1;1;1  9;0;1;0;0;0;1;0;0;0;0;0;0;1;0;1;0   \n",
       "165                                gene-Tb427.BES40.13  gene-Tb427.BES40.13                                  26                                  5   \n",
       "166                                gene-Tb427.BES40.14  gene-Tb427.BES40.14                                  30                                  3   \n",
       "167                                gene-Tb427.BES40.15  gene-Tb427.BES40.15                                  31                                  1   \n",
       "\n",
       "               Peptide counts (unique)                                      Fasta headers  Number of proteins  Peptides  Razor + unique peptides  \\\n",
       "163                                 12  gene-Tb427.BES40.1 lcl|FM162566.1_prot_CAQ5727...                   1        12                       12   \n",
       "164  4;0;0;0;0;0;0;0;0;0;0;0;0;0;0;0;0  gene-Tb427.BES40.10 lcl|FM162566.1_prot_CAQ572...                  17        21                        9   \n",
       "165                                  5  gene-Tb427.BES40.13 lcl|FM162566.1_prot_CAQ572...                   1        26                        5   \n",
       "166                                  3  gene-Tb427.BES40.14 lcl|FM162566.1_prot_CAQ572...                   1        30                        3   \n",
       "167                                  0  gene-Tb427.BES40.15 lcl|FM162566.1_prot_CAQ572...                   1        31                        1   \n",
       "\n",
       "     Unique peptides     ...       id                                        Peptide IDs                                   Peptide is razor  \\\n",
       "163               12     ...      163  3020;29323;42773;43014;51958;68122;76679;82146...  True;True;True;True;True;True;True;True;True;T...   \n",
       "164                4     ...      164  16215;20764;23323;29656;37679;38919;38920;4239...  True;False;True;False;True;False;False;False;F...   \n",
       "165                5     ...      165  116;1821;2098;16505;17506;25684;30750;31406;40...  False;False;False;False;False;False;False;Fals...   \n",
       "166                3     ...      166  11404;15484;15844;22545;23527;23535;23795;2552...  False;False;False;False;False;False;False;Fals...   \n",
       "167                0     ...      167  11404;11833;15484;15844;22545;23527;23535;2379...  False;False;False;False;False;False;False;Fals...   \n",
       "\n",
       "                                      Mod. peptide IDs                                       Evidence IDs                                          MS/MS IDs  \\\n",
       "163  3324;32339;47073;47352;57107;75564;85952;91692...  102897;102898;102899;102900;102901;102902;1029...  165259;165260;165261;165262;165263;165264;1652...   \n",
       "164  17860;22874;25655;25656;32689;41526;41527;4288...  488182;488183;488184;488185;488186;488187;4881...  791739;791740;791741;791742;791743;791744;7917...   \n",
       "165  133;2015;2319;18239;19320;28356;33862;34593;44...  5432;5433;5434;5435;5436;5437;5438;5439;66180;...  9446;9447;9448;9449;9450;9451;9452;9453;108937...   \n",
       "166  12642;17031;17420;24810;24811;25882;25890;2616...  363031;363032;363033;363034;363035;363036;4672...  594168;594169;594170;594171;594172;594173;7587...   \n",
       "167  12642;13090;17031;17420;24810;24811;25882;2589...  363031;363032;363033;363034;363035;363036;3692...  594168;594169;594170;594171;594172;594173;6042...   \n",
       "\n",
       "                                            Best MS/MS   Oxidation (M) site IDs  Oxidation (M) site positions  unique_int  \n",
       "163  165281;1363160;1984376;1991954;2438470;3159155...                  188;189                          1;26          12  \n",
       "164  791748;992098;1103432;1381081;1755688;1811935;...  190;191;192;193;194;195        78;130;155;157;171;272           9  \n",
       "165  9448;108964;124043;806094;847770;1199020;14344...                  196;197                      953;1101           5  \n",
       "166  594172;758739;773702;1067305;1113497;1113620;1...              198;199;200                       9;68;85           3  \n",
       "167  594172;604222;758739;773702;1067305;1113497;11...              198;199;200                       9;68;85           1  \n",
       "\n",
       "[5 rows x 1508 columns]"
      ]
     },
     "execution_count": 59,
     "metadata": {},
     "output_type": "execute_result"
    }
   ],
   "source": [
    "df.head()"
   ]
  },
  {
   "cell_type": "code",
   "execution_count": 63,
   "metadata": {},
   "outputs": [
    {
     "data": {
      "text/html": [
       "<div>\n",
       "<style scoped>\n",
       "    .dataframe tbody tr th:only-of-type {\n",
       "        vertical-align: middle;\n",
       "    }\n",
       "\n",
       "    .dataframe tbody tr th {\n",
       "        vertical-align: top;\n",
       "    }\n",
       "\n",
       "    .dataframe thead th {\n",
       "        text-align: right;\n",
       "    }\n",
       "</style>\n",
       "<table border=\"1\" class=\"dataframe\">\n",
       "  <thead>\n",
       "    <tr style=\"text-align: right;\">\n",
       "      <th></th>\n",
       "      <th>BSF_1</th>\n",
       "      <th>BSF_10</th>\n",
       "      <th>BSF_11</th>\n",
       "      <th>BSF_12</th>\n",
       "      <th>BSF_13</th>\n",
       "      <th>BSF_14</th>\n",
       "      <th>BSF_15</th>\n",
       "      <th>BSF_16</th>\n",
       "      <th>BSF_17</th>\n",
       "      <th>BSF_18</th>\n",
       "      <th>...</th>\n",
       "      <th>Mod. peptide IDs</th>\n",
       "      <th>Evidence IDs</th>\n",
       "      <th>MS/MS IDs</th>\n",
       "      <th>Best MS/MS</th>\n",
       "      <th>Oxidation (M) site IDs</th>\n",
       "      <th>Oxidation (M) site positions</th>\n",
       "      <th>unique_int</th>\n",
       "      <th>Gene_id</th>\n",
       "      <th>Desc</th>\n",
       "      <th>Gene_acc</th>\n",
       "    </tr>\n",
       "  </thead>\n",
       "  <tbody>\n",
       "    <tr>\n",
       "      <th>163</th>\n",
       "      <td>5.551680</td>\n",
       "      <td>5.593679</td>\n",
       "      <td>5.443258</td>\n",
       "      <td>5.451128</td>\n",
       "      <td>5.570693</td>\n",
       "      <td>5.584836</td>\n",
       "      <td>5.544396</td>\n",
       "      <td>5.638799</td>\n",
       "      <td>5.599815</td>\n",
       "      <td>5.627937</td>\n",
       "      <td>...</td>\n",
       "      <td>3324;32339;47073;47352;57107;75564;85952;91692...</td>\n",
       "      <td>102897;102898;102899;102900;102901;102902;1029...</td>\n",
       "      <td>165259;165260;165261;165262;165263;165264;1652...</td>\n",
       "      <td>165281;1363160;1984376;1991954;2438470;3159155...</td>\n",
       "      <td>188;189</td>\n",
       "      <td>1;26</td>\n",
       "      <td>12</td>\n",
       "      <td>gene-Tb427.BES40.1</td>\n",
       "      <td>BES40.1</td>\n",
       "      <td>0</td>\n",
       "    </tr>\n",
       "    <tr>\n",
       "      <th>164</th>\n",
       "      <td>7.501275</td>\n",
       "      <td>7.505302</td>\n",
       "      <td>7.486695</td>\n",
       "      <td>7.520282</td>\n",
       "      <td>7.393861</td>\n",
       "      <td>7.578973</td>\n",
       "      <td>7.561735</td>\n",
       "      <td>7.690670</td>\n",
       "      <td>7.576066</td>\n",
       "      <td>7.541315</td>\n",
       "      <td>...</td>\n",
       "      <td>17860;22874;25655;25656;32689;41526;41527;4288...</td>\n",
       "      <td>488182;488183;488184;488185;488186;488187;4881...</td>\n",
       "      <td>791739;791740;791741;791742;791743;791744;7917...</td>\n",
       "      <td>791748;992098;1103432;1381081;1755688;1811935;...</td>\n",
       "      <td>190;191;192;193;194;195</td>\n",
       "      <td>78;130;155;157;171;272</td>\n",
       "      <td>9</td>\n",
       "      <td>gene-Tb427.BES40.10</td>\n",
       "      <td>BES40.10</td>\n",
       "      <td>1</td>\n",
       "    </tr>\n",
       "    <tr>\n",
       "      <th>165</th>\n",
       "      <td>4.252521</td>\n",
       "      <td>4.344118</td>\n",
       "      <td>3.937760</td>\n",
       "      <td>4.379077</td>\n",
       "      <td>4.460870</td>\n",
       "      <td>4.241221</td>\n",
       "      <td>4.643235</td>\n",
       "      <td>4.327455</td>\n",
       "      <td>4.731550</td>\n",
       "      <td>3.931773</td>\n",
       "      <td>...</td>\n",
       "      <td>133;2015;2319;18239;19320;28356;33862;34593;44...</td>\n",
       "      <td>5432;5433;5434;5435;5436;5437;5438;5439;66180;...</td>\n",
       "      <td>9446;9447;9448;9449;9450;9451;9452;9453;108937...</td>\n",
       "      <td>9448;108964;124043;806094;847770;1199020;14344...</td>\n",
       "      <td>196;197</td>\n",
       "      <td>953;1101</td>\n",
       "      <td>5</td>\n",
       "      <td>gene-Tb427.BES40.13</td>\n",
       "      <td>BES40.13</td>\n",
       "      <td>2</td>\n",
       "    </tr>\n",
       "    <tr>\n",
       "      <th>166</th>\n",
       "      <td>4.133278</td>\n",
       "      <td>5.210002</td>\n",
       "      <td>5.053691</td>\n",
       "      <td>5.055875</td>\n",
       "      <td>4.653502</td>\n",
       "      <td>4.819062</td>\n",
       "      <td>4.571697</td>\n",
       "      <td>4.836373</td>\n",
       "      <td>4.735120</td>\n",
       "      <td>4.786403</td>\n",
       "      <td>...</td>\n",
       "      <td>12642;17031;17420;24810;24811;25882;25890;2616...</td>\n",
       "      <td>363031;363032;363033;363034;363035;363036;4672...</td>\n",
       "      <td>594168;594169;594170;594171;594172;594173;7587...</td>\n",
       "      <td>594172;758739;773702;1067305;1113497;1113620;1...</td>\n",
       "      <td>198;199;200</td>\n",
       "      <td>9;68;85</td>\n",
       "      <td>3</td>\n",
       "      <td>gene-Tb427.BES40.14</td>\n",
       "      <td>BES40.14</td>\n",
       "      <td>3</td>\n",
       "    </tr>\n",
       "    <tr>\n",
       "      <th>167</th>\n",
       "      <td>5.319528</td>\n",
       "      <td>5.354688</td>\n",
       "      <td>5.363192</td>\n",
       "      <td>5.336016</td>\n",
       "      <td>5.224190</td>\n",
       "      <td>5.342375</td>\n",
       "      <td>5.418217</td>\n",
       "      <td>5.367765</td>\n",
       "      <td>5.285312</td>\n",
       "      <td>5.287325</td>\n",
       "      <td>...</td>\n",
       "      <td>12642;13090;17031;17420;24810;24811;25882;2589...</td>\n",
       "      <td>363031;363032;363033;363034;363035;363036;3692...</td>\n",
       "      <td>594168;594169;594170;594171;594172;594173;6042...</td>\n",
       "      <td>594172;604222;758739;773702;1067305;1113497;11...</td>\n",
       "      <td>198;199;200</td>\n",
       "      <td>9;68;85</td>\n",
       "      <td>1</td>\n",
       "      <td>gene-Tb427.BES40.15</td>\n",
       "      <td>BES40.15</td>\n",
       "      <td>4</td>\n",
       "    </tr>\n",
       "  </tbody>\n",
       "</table>\n",
       "<p>5 rows × 1563 columns</p>\n",
       "</div>"
      ],
      "text/plain": [
       "        BSF_1    BSF_10    BSF_11    BSF_12    BSF_13    BSF_14    BSF_15    BSF_16    BSF_17    BSF_18    ...     \\\n",
       "163  5.551680  5.593679  5.443258  5.451128  5.570693  5.584836  5.544396  5.638799  5.599815  5.627937    ...      \n",
       "164  7.501275  7.505302  7.486695  7.520282  7.393861  7.578973  7.561735  7.690670  7.576066  7.541315    ...      \n",
       "165  4.252521  4.344118  3.937760  4.379077  4.460870  4.241221  4.643235  4.327455  4.731550  3.931773    ...      \n",
       "166  4.133278  5.210002  5.053691  5.055875  4.653502  4.819062  4.571697  4.836373  4.735120  4.786403    ...      \n",
       "167  5.319528  5.354688  5.363192  5.336016  5.224190  5.342375  5.418217  5.367765  5.285312  5.287325    ...      \n",
       "\n",
       "                                      Mod. peptide IDs                                       Evidence IDs                                          MS/MS IDs  \\\n",
       "163  3324;32339;47073;47352;57107;75564;85952;91692...  102897;102898;102899;102900;102901;102902;1029...  165259;165260;165261;165262;165263;165264;1652...   \n",
       "164  17860;22874;25655;25656;32689;41526;41527;4288...  488182;488183;488184;488185;488186;488187;4881...  791739;791740;791741;791742;791743;791744;7917...   \n",
       "165  133;2015;2319;18239;19320;28356;33862;34593;44...  5432;5433;5434;5435;5436;5437;5438;5439;66180;...  9446;9447;9448;9449;9450;9451;9452;9453;108937...   \n",
       "166  12642;17031;17420;24810;24811;25882;25890;2616...  363031;363032;363033;363034;363035;363036;4672...  594168;594169;594170;594171;594172;594173;7587...   \n",
       "167  12642;13090;17031;17420;24810;24811;25882;2589...  363031;363032;363033;363034;363035;363036;3692...  594168;594169;594170;594171;594172;594173;6042...   \n",
       "\n",
       "                                            Best MS/MS   Oxidation (M) site IDs  Oxidation (M) site positions  unique_int              Gene_id      Desc  \\\n",
       "163  165281;1363160;1984376;1991954;2438470;3159155...                  188;189                          1;26          12   gene-Tb427.BES40.1   BES40.1   \n",
       "164  791748;992098;1103432;1381081;1755688;1811935;...  190;191;192;193;194;195        78;130;155;157;171;272           9  gene-Tb427.BES40.10  BES40.10   \n",
       "165  9448;108964;124043;806094;847770;1199020;14344...                  196;197                      953;1101           5  gene-Tb427.BES40.13  BES40.13   \n",
       "166  594172;758739;773702;1067305;1113497;1113620;1...              198;199;200                       9;68;85           3  gene-Tb427.BES40.14  BES40.14   \n",
       "167  594172;604222;758739;773702;1067305;1113497;11...              198;199;200                       9;68;85           1  gene-Tb427.BES40.15  BES40.15   \n",
       "\n",
       "     Gene_acc  \n",
       "163         0  \n",
       "164         1  \n",
       "165         2  \n",
       "166         3  \n",
       "167         4  \n",
       "\n",
       "[5 rows x 1563 columns]"
      ]
     },
     "execution_count": 63,
     "metadata": {},
     "output_type": "execute_result"
    }
   ],
   "source": [
    "temp = PTUT.mod_df(imputed_X.join(df,how='left'))\n",
    "temp['Gene_acc']=np.arange(temp.shape[0])\n",
    "temp.rename({'desc':'Desc'},axis=1,inplace=True)\n",
    "temp.head()"
   ]
  },
  {
   "cell_type": "code",
   "execution_count": 65,
   "metadata": {},
   "outputs": [],
   "source": [
    "!mkdir -p 'web_data/E927'"
   ]
  },
  {
   "cell_type": "code",
   "execution_count": 80,
   "metadata": {},
   "outputs": [],
   "source": [
    "temp[['Gene_acc','Gene_id','bsf_median',\n",
    "      'pcf_median','rank_bsf_median','rank_pcf_median','Desc',\n",
    "      'Protein IDs']].to_csv('web_data/E927/indata.csv',index=False)"
   ]
  },
  {
   "cell_type": "code",
   "execution_count": 78,
   "metadata": {},
   "outputs": [
    {
     "data": {
      "text/plain": [
       "Index(['PCF_1', 'PCF_10', 'PCF_11', 'PCF_12', 'PCF_13', 'PCF_14', 'PCF_15', 'PCF_16', 'PCF_17', 'PCF_18', 'PCF_19', 'PCF_2', 'PCF_20', 'PCF_21', 'PCF_22',\n",
       "       'PCF_23', 'PCF_24', 'PCF_25', 'PCF_26', 'PCF_27', 'PCF_3', 'PCF_4', 'PCF_5', 'PCF_6', 'PCF_7', 'PCF_8', 'PCF_9'],\n",
       "      dtype='object')"
      ]
     },
     "execution_count": 78,
     "metadata": {},
     "output_type": "execute_result"
    }
   ],
   "source": [
    "pcf_cols"
   ]
  },
  {
   "cell_type": "code",
   "execution_count": 84,
   "metadata": {},
   "outputs": [],
   "source": [
    "temp2 = merge_normed.fillna(0)\n",
    "temp2 = PTUT.mod_df(temp2.join(df,how='left'))\n",
    "\n",
    "temp2['Gene_acc']=np.arange(temp2.shape[0])\n",
    "temp2.rename({'desc':'Desc'},axis=1,inplace=True)\n",
    "#temp2[list(bsf_cols)+list(pcf_cols)]=np.log10(temp2[list(bsf_cols)+list(pcf_cols)])\n",
    "\n",
    "temp2[['Gene_acc','Gene_id']+list(bsf_cols)+list(pcf_cols)+['Desc','Protein IDs']].to_csv('web_data/E927/indata2.csv',index=False)\n",
    "\n"
   ]
  },
  {
   "cell_type": "code",
   "execution_count": null,
   "metadata": {},
   "outputs": [],
   "source": [
    "\n",
    "temp=all_df_select[['Gene_acc','PG.ProteinAccessions',\n",
    "                    'P87-M87_logFC','P87-M87_AveExpr','P87-M87_adj.P.Val','Desc','Protein IDs']]\n",
    "\n",
    "temp.columns = ['Gene_acc','Gene_id','logFC','log_AveExpr','FDR','Desc']\n",
    "temp.to_csv('web_data/E927/indata.csv',index=False)\n",
    "\n",
    "\n",
    "all_df_select[['Gene_acc','Gene_id','87P1','87P2','87P3',\n",
    "      '87M1','87M2','87M3','Desc']].to_csv('web_data/E927/indata2.csv',index=False)\n",
    "\n"
   ]
  },
  {
   "cell_type": "code",
   "execution_count": null,
   "metadata": {},
   "outputs": [],
   "source": []
  },
  {
   "cell_type": "code",
   "execution_count": null,
   "metadata": {},
   "outputs": [],
   "source": []
  },
  {
   "cell_type": "code",
   "execution_count": null,
   "metadata": {},
   "outputs": [],
   "source": [
    "bsf['bsf_mean']=bsf[bsf_cols].mean(axis=1,skipna=True)\n",
    "bsf['bsf_median']=bsf[bsf_cols].median(axis=1,skipna=True)\n",
    "bsf['bsf_std']=bsf[bsf_cols].std(axis=1,skipna=True)\n",
    "bsf['bsf_cv']=bsf['bsf_std']/bsf['bsf_mean']\n",
    "bsf['bsf_values']=bsf[bsf_cols].shape[1]-bsf[bsf_cols].isna().sum(axis=1)\n",
    "bsf.head()"
   ]
  },
  {
   "cell_type": "code",
   "execution_count": null,
   "metadata": {},
   "outputs": [],
   "source": [
    "pcf['pcf_mean']=pcf[pcf_cols].mean(axis=1,skipna=True)\n",
    "pcf['pcf_median']=pcf[pcf_cols].median(axis=1,skipna=True)\n",
    "pcf['pcf_std']=pcf[pcf_cols].std(axis=1,skipna=True)\n",
    "pcf['pcf_cv']=pcf['pcf_std']/pcf['pcf_mean']\n",
    "pcf['pcf_values']=pcf[pcf_cols].shape[1]-pcf[pcf_cols].isna().sum(axis=1)\n",
    "pcf.head()"
   ]
  },
  {
   "cell_type": "code",
   "execution_count": null,
   "metadata": {},
   "outputs": [],
   "source": [
    "palette=['r']*len(bsf_cols)+['b']*len(pcf_cols)\n",
    "palette_g = ['r','b']\n",
    "color_dictionary = {'r':'BSF','b':'PCF'}\n",
    "merge = pd.concat([bsf[bsf_cols],pcf[pcf_cols]], axis=1)\n",
    "merge.head()"
   ]
  },
  {
   "cell_type": "code",
   "execution_count": null,
   "metadata": {},
   "outputs": [],
   "source": [
    "fig,ax=plt.subplots(figsize=(12,4))\n",
    "sns.boxplot(data=np.log10(merge),showfliers=False,palette=palette,ax=ax)\n",
    "plt.title('Value Distribution')\n",
    "plt.xlabel('Log10 LFQ')\n",
    "plt.xticks(rotation=45,ha='right')\n",
    "plt.savefig(os.path.join(OUT_FOLDER,'4_value_distribution_box.png'))\n",
    "plt.show()"
   ]
  },
  {
   "cell_type": "code",
   "execution_count": null,
   "metadata": {},
   "outputs": [],
   "source": [
    "fig, ax = plt.subplots()\n",
    "#temp = merge.copy()\n",
    "#temp.columns = [n.split(' ')[-1] for n in merge.columns]\n",
    "ax = PTUT.make_mds(np.log10(merge.replace(np.nan,0)), palette, ax, top=500,\n",
    "                   color_dictionary=color_dictionary)\n",
    "plt.savefig(os.path.join(OUT_FOLDER,'5_mds.png')) "
   ]
  },
  {
   "cell_type": "code",
   "execution_count": null,
   "metadata": {},
   "outputs": [],
   "source": [
    "np.log10(merge.replace(np.nan,1)).plot(kind='kde', color=palette, alpha=0.5)\n",
    "plt.legend(loc='center left', bbox_to_anchor=(1, 0.5))\n",
    "plt.title('Value Distribution')\n",
    "plt.xlabel('Log10 TMT')\n",
    "plt.savefig(os.path.join(OUT_FOLDER,'3_value_distribution_kde.png'))\n",
    "plt.legend('off')\n",
    "plt.show()"
   ]
  },
  {
   "cell_type": "code",
   "execution_count": null,
   "metadata": {},
   "outputs": [],
   "source": [
    "merge = pd.concat([bsf,pcf], axis=1)\n",
    "merge.head()"
   ]
  },
  {
   "cell_type": "code",
   "execution_count": null,
   "metadata": {},
   "outputs": [],
   "source": [
    "merge['log_pcf_median']=np.log10(merge['pcf_median']).fillna(0)\n",
    "merge['log_bsf_median']=np.log10(merge['bsf_median']).fillna(0)\n",
    "merge['x1']=0\n",
    "merge['x2']=1\n",
    "\n",
    "\n",
    "merge.head()"
   ]
  },
  {
   "cell_type": "code",
   "execution_count": null,
   "metadata": {},
   "outputs": [],
   "source": [
    "fig,ax=plt.subplots(figsize=(8,8))\n",
    "merge.plot(kind='scatter',x='log_pcf_median',y='log_bsf_median',ax=ax)\n",
    "merge.loc[[172]].plot(kind='scatter',x='log_pcf_median',y='log_bsf_median',ax=ax,c='r')"
   ]
  },
  {
   "cell_type": "code",
   "execution_count": null,
   "metadata": {},
   "outputs": [],
   "source": [
    "fig,ax=plt.subplots(figsize=(8,8))\n",
    "merge.plot(kind='scatter',x='x1',y='log_bsf_median',ax=ax)\n",
    "merge.plot(kind='scatter',x='x2',y='log_pcf_median',ax=ax)\n",
    "merge.loc[[172]].plot(kind='scatter',x='x1',y='log_bsf_median',ax=ax,c='r')\n",
    "merge.loc[[172]].plot(kind='scatter',x='x2',y='log_pcf_median',ax=ax,c='r')\n"
   ]
  },
  {
   "cell_type": "code",
   "execution_count": null,
   "metadata": {},
   "outputs": [],
   "source": [
    "#to_delete = merge[(merge['log_pcf_median']==0)&(merge['log_bsf_median']==0)].index.values\n",
    "#merge = merge.drop(to_delete)"
   ]
  },
  {
   "cell_type": "code",
   "execution_count": null,
   "metadata": {},
   "outputs": [],
   "source": [
    "merge.shape"
   ]
  },
  {
   "cell_type": "code",
   "execution_count": null,
   "metadata": {},
   "outputs": [],
   "source": [
    "merge.head()"
   ]
  },
  {
   "cell_type": "code",
   "execution_count": 82,
   "metadata": {},
   "outputs": [
    {
     "data": {
      "text/html": [
       "<div>\n",
       "<style scoped>\n",
       "    .dataframe tbody tr th:only-of-type {\n",
       "        vertical-align: middle;\n",
       "    }\n",
       "\n",
       "    .dataframe tbody tr th {\n",
       "        vertical-align: top;\n",
       "    }\n",
       "\n",
       "    .dataframe thead th {\n",
       "        text-align: right;\n",
       "    }\n",
       "</style>\n",
       "<table border=\"1\" class=\"dataframe\">\n",
       "  <thead>\n",
       "    <tr style=\"text-align: right;\">\n",
       "      <th></th>\n",
       "      <th>Protein IDs</th>\n",
       "      <th>Majority protein IDs</th>\n",
       "      <th>Peptide counts (all)</th>\n",
       "      <th>Peptide counts (razor+unique)</th>\n",
       "      <th>Peptide counts (unique)</th>\n",
       "      <th>Fasta headers</th>\n",
       "      <th>Number of proteins</th>\n",
       "      <th>Peptides</th>\n",
       "      <th>Razor + unique peptides</th>\n",
       "      <th>Unique peptides</th>\n",
       "      <th>...</th>\n",
       "      <th>id</th>\n",
       "      <th>Peptide IDs</th>\n",
       "      <th>Peptide is razor</th>\n",
       "      <th>Mod. peptide IDs</th>\n",
       "      <th>Evidence IDs</th>\n",
       "      <th>MS/MS IDs</th>\n",
       "      <th>Best MS/MS</th>\n",
       "      <th>Oxidation (M) site IDs</th>\n",
       "      <th>Oxidation (M) site positions</th>\n",
       "      <th>unique_int</th>\n",
       "    </tr>\n",
       "  </thead>\n",
       "  <tbody>\n",
       "    <tr>\n",
       "      <th>5202</th>\n",
       "      <td>Tb927.6.5100:mRNA-p1</td>\n",
       "      <td>Tb927.6.5100:mRNA-p1</td>\n",
       "      <td>12</td>\n",
       "      <td>12</td>\n",
       "      <td>12</td>\n",
       "      <td>Tb927.6.5100:mRNA-p1 | transcript=Tb927.6.5100...</td>\n",
       "      <td>1</td>\n",
       "      <td>12</td>\n",
       "      <td>12</td>\n",
       "      <td>12</td>\n",
       "      <td>...</td>\n",
       "      <td>5202</td>\n",
       "      <td>9727;12804;15076;28846;28850;33026;57255;74275...</td>\n",
       "      <td>True;True;True;True;True;True;True;True;True;T...</td>\n",
       "      <td>10853;14127;16589;31817;31821;36356;62834;8337...</td>\n",
       "      <td>324507;324508;324509;324510;324511;324512;3245...</td>\n",
       "      <td>529902;529903;529904;529905;529906;529907;5299...</td>\n",
       "      <td>529918;644929;740630;1339764;1339840;1534160;2...</td>\n",
       "      <td>NaN</td>\n",
       "      <td>NaN</td>\n",
       "      <td>12</td>\n",
       "    </tr>\n",
       "  </tbody>\n",
       "</table>\n",
       "<p>1 rows × 1508 columns</p>\n",
       "</div>"
      ],
      "text/plain": [
       "               Protein IDs  Majority protein IDs Peptide counts (all) Peptide counts (razor+unique) Peptide counts (unique)  \\\n",
       "5202  Tb927.6.5100:mRNA-p1  Tb927.6.5100:mRNA-p1                   12                            12                      12   \n",
       "\n",
       "                                          Fasta headers  Number of proteins  Peptides  Razor + unique peptides  Unique peptides     ...        id  \\\n",
       "5202  Tb927.6.5100:mRNA-p1 | transcript=Tb927.6.5100...                   1        12                       12               12     ...      5202   \n",
       "\n",
       "                                            Peptide IDs                                   Peptide is razor                                   Mod. peptide IDs  \\\n",
       "5202  9727;12804;15076;28846;28850;33026;57255;74275...  True;True;True;True;True;True;True;True;True;T...  10853;14127;16589;31817;31821;36356;62834;8337...   \n",
       "\n",
       "                                           Evidence IDs                                          MS/MS IDs                                         Best MS/MS  \\\n",
       "5202  324507;324508;324509;324510;324511;324512;3245...  529902;529903;529904;529905;529906;529907;5299...  529918;644929;740630;1339764;1339840;1534160;2...   \n",
       "\n",
       "      Oxidation (M) site IDs  Oxidation (M) site positions  unique_int  \n",
       "5202                     NaN                           NaN          12  \n",
       "\n",
       "[1 rows x 1508 columns]"
      ]
     },
     "execution_count": 82,
     "metadata": {},
     "output_type": "execute_result"
    }
   ],
   "source": [
    "df[df['Protein IDs'].str.contains('Tb427.BES40.22')]\n",
    "df[df['Protein IDs'].str.contains('Tb927.6.510')]\n"
   ]
  },
  {
   "cell_type": "code",
   "execution_count": null,
   "metadata": {},
   "outputs": [],
   "source": [
    "selection = merge[list(bsf_cols)+list(pcf_cols)]\n",
    "selection.head()"
   ]
  },
  {
   "cell_type": "code",
   "execution_count": null,
   "metadata": {},
   "outputs": [],
   "source": [
    "len(bsf_cols),len(pcf_cols)"
   ]
  },
  {
   "cell_type": "code",
   "execution_count": null,
   "metadata": {},
   "outputs": [],
   "source": [
    "#selection = np.log2(selection)"
   ]
  },
  {
   "cell_type": "code",
   "execution_count": null,
   "metadata": {},
   "outputs": [],
   "source": [
    "%load_ext rpy2.ipython\n",
    "%matplotlib inline"
   ]
  },
  {
   "cell_type": "code",
   "execution_count": null,
   "metadata": {},
   "outputs": [],
   "source": [
    "#https://codereview.stackexchange.com/questions/25417/is-there-a-better-way-to-make-a-function-silent-on-need\n",
    "class NoStdStreams(object):\n",
    "    def __init__(self, stdout = None, stderr = None):\n",
    "        self.devnull = open(os.devnull,'w')\n",
    "        self._stdout = stdout or self.devnull or sys.stdout\n",
    "        self._stderr = stderr or self.devnull or sys.stderr\n",
    "\n",
    "    def __enter__(self):\n",
    "        self.old_stdout, self.old_stderr = sys.stdout, sys.stderr\n",
    "        self.old_stdout.flush(); self.old_stderr.flush()\n",
    "        sys.stdout, sys.stderr = self._stdout, self._stderr\n",
    "\n",
    "    def __exit__(self, exc_type, exc_value, traceback):\n",
    "        self._stdout.flush(); self._stderr.flush()\n",
    "        sys.stdout = self.old_stdout\n",
    "        sys.stderr = self.old_stderr\n",
    "        self.devnull.close()\n",
    "\n",
    "with NoStdStreams():\n",
    "   selection_normed = PTUT.norm_loading(selection)\n",
    "\n",
    "sns.boxplot(data =np.log2(selection_normed),showfliers=False,palette=palette)\n",
    "plt.title('Value Distribution')\n",
    "plt.xlabel('Log10 LFQ')\n",
    "plt.savefig(os.path.join(OUT_FOLDER,'6_value_distribution_box.png'))\n",
    "plt.show()"
   ]
  },
  {
   "cell_type": "code",
   "execution_count": null,
   "metadata": {},
   "outputs": [],
   "source": [
    "#selection_normed = np.log2(selection_normed)\n",
    "selection_normed.head()"
   ]
  },
  {
   "cell_type": "code",
   "execution_count": null,
   "metadata": {},
   "outputs": [],
   "source": [
    "selection.loc[172].plot(kind='bar',figsize=(12,4))\n"
   ]
  },
  {
   "cell_type": "code",
   "execution_count": null,
   "metadata": {},
   "outputs": [],
   "source": [
    "selection_normed.loc[172].plot(kind='bar',figsize=(12,4))"
   ]
  },
  {
   "cell_type": "code",
   "execution_count": null,
   "metadata": {},
   "outputs": [],
   "source": [
    "merge.loc[172].plot(kind='bar',figsize=(12,4))"
   ]
  },
  {
   "cell_type": "code",
   "execution_count": null,
   "metadata": {},
   "outputs": [],
   "source": [
    "selection_normed_filled = selection_normed.fillna(0)"
   ]
  },
  {
   "cell_type": "code",
   "execution_count": null,
   "metadata": {},
   "outputs": [],
   "source": [
    "selection_normed_filled.head()"
   ]
  },
  {
   "cell_type": "code",
   "execution_count": null,
   "metadata": {},
   "outputs": [],
   "source": [
    "selection_normed_filled['median_bsf']=selection_normed_filled[bsf_cols].median(axis=1)\n",
    "selection_normed_filled['median_pcf']=selection_normed_filled[pcf_cols].median(axis=1)"
   ]
  },
  {
   "cell_type": "code",
   "execution_count": null,
   "metadata": {},
   "outputs": [],
   "source": [
    "remove = selection_normed_filled[(selection_normed_filled['median_bsf']==0.0)\n",
    "                       & (selection_normed_filled['median_pcf']==0.0)].index.values"
   ]
  },
  {
   "cell_type": "code",
   "execution_count": null,
   "metadata": {},
   "outputs": [],
   "source": [
    "selection_normed_filled_final = selection_normed_filled.drop(remove)\n",
    "selection_normed_filled_final.head()"
   ]
  },
  {
   "cell_type": "code",
   "execution_count": null,
   "metadata": {},
   "outputs": [],
   "source": [
    "very_low = selection_normed_filled[(selection_normed_filled['median_bsf']==0.0)\n",
    "                       & (selection_normed_filled['median_pcf']==0.0)]"
   ]
  },
  {
   "cell_type": "code",
   "execution_count": null,
   "metadata": {},
   "outputs": [],
   "source": [
    "very_low = very_low.replace(0,np.nan)\n",
    "very_low['median_bsf']=very_low[bsf_cols].median(axis=1,skipna=True)\n",
    "very_low['median_pcf']=very_low[pcf_cols].median(axis=1,skipna=True)\n",
    "very_low.head()"
   ]
  },
  {
   "cell_type": "code",
   "execution_count": null,
   "metadata": {},
   "outputs": [],
   "source": [
    "final = pd.concat([\n",
    "  selection_normed_filled_final, very_low \n",
    "])"
   ]
  },
  {
   "cell_type": "code",
   "execution_count": null,
   "metadata": {},
   "outputs": [],
   "source": [
    "final['median_bsf']=final['median_bsf'].fillna(0)\n",
    "final['median_pcf']=final['median_pcf'].fillna(0)"
   ]
  },
  {
   "cell_type": "code",
   "execution_count": null,
   "metadata": {},
   "outputs": [],
   "source": [
    "final['rank_median_bsf']=final['median_bsf'].rank(method='first')\n",
    "final['rank_median_pcf']=final['median_pcf'].rank(method='first')"
   ]
  },
  {
   "cell_type": "code",
   "execution_count": null,
   "metadata": {},
   "outputs": [],
   "source": []
  },
  {
   "cell_type": "code",
   "execution_count": null,
   "metadata": {},
   "outputs": [],
   "source": []
  },
  {
   "cell_type": "code",
   "execution_count": null,
   "metadata": {},
   "outputs": [],
   "source": [
    "fig,ax=plt.subplots(figsize=(8,8))\n",
    "final.plot(kind='scatter',x='rank_median_bsf',y='rank_median_pcf',ax=ax)\n",
    "final.loc[[172]].plot(kind='scatter',x='rank_median_bsf',y='rank_median_pcf',ax=ax,c='r')"
   ]
  },
  {
   "cell_type": "code",
   "execution_count": null,
   "metadata": {},
   "outputs": [],
   "source": [
    "very_low = selection_normed_filled[(selection_normed_filled['median_bsf']==0.0)\n",
    "                       & (selection_normed_filled['median_pcf']==0.0)]"
   ]
  },
  {
   "cell_type": "code",
   "execution_count": null,
   "metadata": {},
   "outputs": [],
   "source": [
    "very_low = very_low.replace(0,np.nan)\n",
    "very_low['median_bsf']=very_low[bsf_cols].median(axis=1,skipna=True)\n",
    "very_low['median_pcf']=very_low[pcf_cols].median(axis=1,skipna=True)\n",
    "very_low.head()"
   ]
  },
  {
   "cell_type": "code",
   "execution_count": null,
   "metadata": {},
   "outputs": [],
   "source": [
    "very_low['rank_median_bsf']=very_low['median_bsf'].rank(method='first',ascending=False)\n",
    "very_low['rank_median_pcf']=very_low['median_pcf'].rank(method='first',ascending=False)"
   ]
  },
  {
   "cell_type": "code",
   "execution_count": null,
   "metadata": {},
   "outputs": [],
   "source": [
    "very_low['rank_median_bsf']=very_low['rank_median_bsf'].fillna(very_low['rank_median_bsf'].max()+1)\n",
    "very_low['rank_median_pcf']=very_low['rank_median_pcf'].fillna(very_low['rank_median_pcf'].max()+1)"
   ]
  },
  {
   "cell_type": "code",
   "execution_count": null,
   "metadata": {},
   "outputs": [],
   "source": [
    "very_low['rank_median_bsf']=very_low['rank_median_bsf']*-1\n",
    "very_low['rank_median_pcf']=very_low['rank_median_pcf']*-1"
   ]
  },
  {
   "cell_type": "code",
   "execution_count": null,
   "metadata": {},
   "outputs": [],
   "source": [
    "final = pd.concat([selection_normed_filled_final,very_low])\n",
    "final.head()"
   ]
  },
  {
   "cell_type": "code",
   "execution_count": null,
   "metadata": {},
   "outputs": [],
   "source": [
    "final['rank_median_bsf']=final['rank_median_bsf'].rank(method='first')\n",
    "final['rank_median_pcf']=final['rank_median_pcf'].rank(method='first')"
   ]
  },
  {
   "cell_type": "code",
   "execution_count": null,
   "metadata": {},
   "outputs": [],
   "source": [
    "fig,ax=plt.subplots(figsize=(8,8))\n",
    "final.plot(kind='scatter',x='rank_median_bsf',y='rank_median_pcf',ax=ax)\n",
    "final.loc[[172]].plot(kind='scatter',x='rank_median_bsf',y='rank_median_pcf',ax=ax,c='r')"
   ]
  },
  {
   "cell_type": "code",
   "execution_count": null,
   "metadata": {},
   "outputs": [],
   "source": []
  },
  {
   "cell_type": "code",
   "execution_count": null,
   "metadata": {},
   "outputs": [],
   "source": [
    "selection_normed_filled[\n",
    "    (selection_normed_filled['rank_median_bsf']<1000)&(selection_normed_filled['rank_median_pcf']<1000)]"
   ]
  },
  {
   "cell_type": "code",
   "execution_count": null,
   "metadata": {},
   "outputs": [],
   "source": []
  },
  {
   "cell_type": "code",
   "execution_count": null,
   "metadata": {},
   "outputs": [],
   "source": []
  },
  {
   "cell_type": "code",
   "execution_count": null,
   "metadata": {},
   "outputs": [],
   "source": []
  },
  {
   "cell_type": "code",
   "execution_count": null,
   "metadata": {},
   "outputs": [],
   "source": []
  },
  {
   "cell_type": "code",
   "execution_count": null,
   "metadata": {},
   "outputs": [],
   "source": []
  },
  {
   "cell_type": "code",
   "execution_count": null,
   "metadata": {},
   "outputs": [],
   "source": []
  },
  {
   "cell_type": "code",
   "execution_count": null,
   "metadata": {},
   "outputs": [],
   "source": []
  },
  {
   "cell_type": "code",
   "execution_count": null,
   "metadata": {},
   "outputs": [],
   "source": [
    "%%R -i selection_normed\n",
    "options(warn=-1)\n",
    "library(\"limma\")\n",
    "\n",
    "f<- factor(c(rep(\"BSF\",21),rep(\"PCF\",27))\n",
    "           ,levels=c(\"BSF\",\"PCF\"))\n",
    "\n",
    "design<- model.matrix(~0+f)\n",
    "colnames(design)<- c(\"BSF\",\"PCF\")\n",
    "\n",
    "#block <- c(1,1,1,2,2,2,3,3,3,1,1,1,2,2,2,3,3,3,1,1,1,2,2,2,3,3,3)\n",
    "#block <- c(1,1,2,2,3,3,1,1,1,2,2,2,3,3,3,1,1,1,2,2,2,3,3,3)\n",
    "\n",
    "#dupcor <- duplicateCorrelation(imputed_X, design, block=block)\n",
    "\n",
    "\n",
    "#fit2<- lmFit(imputed_X, design, block=block, correlation=dupcor$consensus)\n",
    "fit2<- lmFit(selection_normed, design)\n",
    "contrast.matrix<- makeContrasts(\"BSF-PCF\", levels=design)\n",
    "fit2<- contrasts.fit(fit2, contrast.matrix)\n",
    "fit2<- eBayes(fit2)\n",
    "\n",
    "tt_limma_1 <- topTable(fit2, coef = 1, sort.by = \"none\", number = Inf)"
   ]
  },
  {
   "cell_type": "code",
   "execution_count": null,
   "metadata": {},
   "outputs": [],
   "source": [
    "%R -o tt_limma_1"
   ]
  },
  {
   "cell_type": "code",
   "execution_count": null,
   "metadata": {},
   "outputs": [],
   "source": [
    "tt_limma_1.index = selection_normed.index.values\n",
    "tt_limma_1.sort_values(by='logFC',ascending=False).head(5)"
   ]
  },
  {
   "cell_type": "code",
   "execution_count": null,
   "metadata": {
    "scrolled": false
   },
   "outputs": [],
   "source": [
    "final = PTUT.mod_df(df).join(tt_limma_1).sort_values(by='logFC',ascending=False)"
   ]
  },
  {
   "cell_type": "code",
   "execution_count": null,
   "metadata": {},
   "outputs": [],
   "source": [
    "final.plot(kind='scatter',x='AveExpr',y='logFC')"
   ]
  },
  {
   "cell_type": "code",
   "execution_count": null,
   "metadata": {},
   "outputs": [],
   "source": [
    "final.plot(kind='scatter',y='adj.P.Val',x='logFC')"
   ]
  },
  {
   "cell_type": "code",
   "execution_count": null,
   "metadata": {},
   "outputs": [],
   "source": [
    "final.head()"
   ]
  },
  {
   "cell_type": "code",
   "execution_count": null,
   "metadata": {},
   "outputs": [],
   "source": [
    "gly = '''Tb11.v5.0356\n",
    "Tb11.v5.0516\n",
    "Tb11.v5.0531\n",
    "Tb11.v5.0605\n",
    "Tb11.v5.0650\n",
    "Tb11.v5.0729\n",
    "Tb927.1.1240\n",
    "Tb927.1.3830\n",
    "Tb927.1.700\n",
    "Tb927.1.710\n",
    "Tb927.1.720\n",
    "Tb927.10.14140\n",
    "Tb927.10.2880\n",
    "Tb927.10.2890\n",
    "Tb927.10.5620\n",
    "Tb927.10.6440\n",
    "Tb927.10.6880\n",
    "Tb927.10.7430\n",
    "Tb927.10.7930\n",
    "Tb927.11.1020\n",
    "Tb927.11.11490\n",
    "Tb927.11.11490\n",
    "Tb927.11.16410\n",
    "Tb927.11.2360\n",
    "Tb927.11.2380\n",
    "Tb927.11.5520\n",
    "Tb927.11.6280\n",
    "Tb927.2.5800\n",
    "Tb927.3.3270\n",
    "Tb927.5.2690\n",
    "Tb927.5.3580\n",
    "Tb927.6.4280\n",
    "Tb927.6.4300\n",
    "Tb927.9.8720\n",
    "Tb927.9.9820'''.split()\n",
    "fig,ax=plt.subplots()\n",
    "final.plot(kind='scatter',x='AveExpr',y='logFC',ax=ax)\n",
    "final[final['Gene_id'].isin(gly)].plot(kind='scatter',x='AveExpr',y='logFC',ax=ax,c='red')"
   ]
  },
  {
   "cell_type": "markdown",
   "metadata": {},
   "source": [
    "[10:32] Michael Ferguson (Staff)\n",
    "the modified AAs are: Ser/Thr-GlcNAc; Ser-GlcNAc-Gal; Ser/Thr-GlcNAc-Gal-Fuc.       GlcNac = HexNAc, Gal = Hex, Fuc dHex \n",
    "\n",
    "[10:32] Michael Ferguson (Staff)\n",
    "in MS2 the beta elimination of the glycan leaves the anydro aminoi acid Ser/Thr- 18 Da \n",
    "\n"
   ]
  },
  {
   "cell_type": "code",
   "execution_count": null,
   "metadata": {},
   "outputs": [],
   "source": [
    "final.head()"
   ]
  },
  {
   "cell_type": "code",
   "execution_count": null,
   "metadata": {},
   "outputs": [],
   "source": []
  },
  {
   "cell_type": "code",
   "execution_count": null,
   "metadata": {},
   "outputs": [],
   "source": [
    "selection_normed['pcf_mean']=selection_normed[pcf_cols].mean(axis=1,skipna=True)\n",
    "selection_normed['pcf_median']=selection_normed[pcf_cols].median(axis=1,skipna=True)\n",
    "selection_normed['pcf_std']=selection_normed[pcf_cols].std(axis=1,skipna=True)\n",
    "selection_normed['pcf_cv']=selection_normed['pcf_std']/selection_normed['pcf_mean']\n",
    "selection_normed['pcf_values']=selection_normed[pcf_cols].shape[1]-selection_normed[pcf_cols].isna().sum(axis=1)\n",
    "selection_normed.head()"
   ]
  },
  {
   "cell_type": "code",
   "execution_count": null,
   "metadata": {},
   "outputs": [],
   "source": [
    "selection_normed['bsf_mean']=selection_normed[bsf_cols].mean(axis=1,skipna=True)\n",
    "selection_normed['bsf_median']=selection_normed[bsf_cols].median(axis=1,skipna=True)\n",
    "selection_normed['bsf_std']=selection_normed[bsf_cols].std(axis=1,skipna=True)\n",
    "selection_normed['bsf_cv']=selection_normed['bsf_std']/selection_normed['bsf_mean']\n",
    "selection_normed['bsf_values']=selection_normed[bsf_cols].shape[1]-selection_normed[bsf_cols].isna().sum(axis=1)\n",
    "selection_normed.head()"
   ]
  },
  {
   "cell_type": "code",
   "execution_count": null,
   "metadata": {},
   "outputs": [],
   "source": [
    "final=final.join(selection_normed)"
   ]
  },
  {
   "cell_type": "code",
   "execution_count": null,
   "metadata": {},
   "outputs": [],
   "source": [
    "final['x1']=1\n",
    "final['x2']=2\n",
    "final['rank_bsf_median']=final['bsf_median'].fillna(0).rank(method='first')\n",
    "final['rank_pcf_median']=final['pcf_median'].fillna(0).rank(method='first')"
   ]
  },
  {
   "cell_type": "code",
   "execution_count": null,
   "metadata": {},
   "outputs": [],
   "source": [
    "fig,ax=plt.subplots(figsize=(8,8))\n",
    "final.plot(kind='scatter',x='x1',y='rank_bsf_median',ax=ax)\n",
    "final.plot(kind='scatter',x='x2',y='rank_pcf_median',ax=ax)"
   ]
  },
  {
   "cell_type": "code",
   "execution_count": null,
   "metadata": {},
   "outputs": [],
   "source": [
    "fig,ax=plt.subplots(figsize=(8,8))\n",
    "final.plot(kind='scatter',x='rank_bsf_median',y='rank_pcf_median',ax=ax)\n",
    "final.loc[[172]].plot(kind='scatter',x='rank_bsf_median',y='rank_pcf_median',ax=ax,c='r')"
   ]
  },
  {
   "cell_type": "code",
   "execution_count": null,
   "metadata": {},
   "outputs": [],
   "source": [
    "fig,ax=plt.subplots(figsize=(8,8))\n",
    "final[]\n",
    "final.plot(kind='scatter',x='bsf_median',y='pcf_median',ax=ax)\n",
    "final.loc[[172]].plot(kind='scatter',x='bsf_median',y='pcf_median',ax=ax,c='r')"
   ]
  },
  {
   "cell_type": "code",
   "execution_count": null,
   "metadata": {},
   "outputs": [],
   "source": [
    "df.loc[172]"
   ]
  },
  {
   "cell_type": "code",
   "execution_count": null,
   "metadata": {},
   "outputs": [],
   "source": []
  }
 ],
 "metadata": {
  "kernelspec": {
   "display_name": "Python 3",
   "language": "python",
   "name": "python3"
  },
  "language_info": {
   "codemirror_mode": {
    "name": "ipython",
    "version": 3
   },
   "file_extension": ".py",
   "mimetype": "text/x-python",
   "name": "python",
   "nbconvert_exporter": "python",
   "pygments_lexer": "ipython3",
   "version": "3.7.1"
  },
  "toc": {
   "base_numbering": 1,
   "nav_menu": {},
   "number_sections": true,
   "sideBar": true,
   "skip_h1_title": false,
   "title_cell": "Table of Contents",
   "title_sidebar": "Contents",
   "toc_cell": false,
   "toc_position": {},
   "toc_section_display": true,
   "toc_window_display": false
  }
 },
 "nbformat": 4,
 "nbformat_minor": 4
}
