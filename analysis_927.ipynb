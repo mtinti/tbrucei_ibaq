{
 "cells": [
  {
   "cell_type": "markdown",
   "metadata": {},
   "source": [
    "<img typeof=\"foaf:Image\" src=\"ANTI-INFECTIVES-RGB_200pc.png\" alt=\"Wellcome Centre for Anti-Infectives Research\" title=\"\">\n",
    "\n",
    "# Visualisation of Protein Abundance in T. brucei: TREU927\n",
    "\n",
    "Michele Tinti and Michael A.J. Ferguson\n",
    "\n",
    "Wellcome Centre for Anti-Infectives Research\n",
    "School of Life Sciences, University of Dundee\n",
    "\n"
   ]
  },
  {
   "cell_type": "code",
   "execution_count": null,
   "metadata": {},
   "outputs": [],
   "source": [
    "%matplotlib inline\n",
    "%load_ext autoreload\n",
    "%autoreload 2"
   ]
  },
  {
   "cell_type": "code",
   "execution_count": null,
   "metadata": {},
   "outputs": [],
   "source": [
    "#set up code\n",
    "import sys\n",
    "#sys.path.append('../ProLib')\n",
    "import utilities as PTUT\n",
    "import warnings\n",
    "warnings.filterwarnings(\"ignore\")\n",
    "#define helphttp://localhost:8888/notebooks/calvin/new_data/analysis_427_2018.ipynb#ing function\n",
    "import os\n",
    "from tqdm.auto import tqdm\n",
    "from sklearn.decomposition import PCA\n",
    "from sklearn.manifold import MDS\n",
    "from adjustText import adjust_text\n",
    "from matplotlib.lines import Line2D\n",
    "from Bio import SeqIO\n",
    "import pandas as pd\n",
    "import numpy as np\n",
    "from scipy.stats import ttest_ind\n",
    "import matplotlib.pyplot as plt\n",
    "import seaborn as sns\n",
    "import os\n",
    "import missingno as msno\n",
    "plt.style.use('ggplot')"
   ]
  },
  {
   "cell_type": "markdown",
   "metadata": {},
   "source": [
    "# Load Data"
   ]
  },
  {
   "cell_type": "code",
   "execution_count": null,
   "metadata": {},
   "outputs": [],
   "source": [
    "OUT_FOLDER = '927/'"
   ]
  },
  {
   "cell_type": "code",
   "execution_count": null,
   "metadata": {},
   "outputs": [],
   "source": [
    "df = pd.read_csv('927/proteinGroups_ibaq.txt.gz',sep='\\t')\n",
    "df = PTUT.clean_df(df, score=-1, unique_pep_threshold=-1)"
   ]
  },
  {
   "cell_type": "code",
   "execution_count": null,
   "metadata": {},
   "outputs": [],
   "source": []
  },
  {
   "cell_type": "code",
   "execution_count": null,
   "metadata": {},
   "outputs": [],
   "source": [
    "#list(df.columns)"
   ]
  },
  {
   "cell_type": "code",
   "execution_count": null,
   "metadata": {},
   "outputs": [],
   "source": [
    "df.head()"
   ]
  },
  {
   "cell_type": "code",
   "execution_count": null,
   "metadata": {},
   "outputs": [],
   "source": [
    "df[df['Protein IDs'].str.contains('gene-Tb427.BES40.16')]\n",
    "#gene-Tb427.BES40.16"
   ]
  },
  {
   "cell_type": "code",
   "execution_count": null,
   "metadata": {},
   "outputs": [],
   "source": [
    "bsf_cols = [n for n in  list(df.columns) if 'iBAQ H BSF' in n]\n",
    "bsf = df[bsf_cols]\n",
    "bsf.columns = [n.split(' ')[-1] for n in bsf.columns]\n",
    "bsf_cols = bsf.columns\n",
    "pcf_cols = [n for n in  list(df.columns) if 'iBAQ H PCF' in n]\n",
    "pcf = df[pcf_cols]\n",
    "pcf.columns = [n.split(' ')[-1] for n in pcf.columns]\n",
    "pcf_cols = pcf.columns\n",
    "bsf = bsf.replace(0,np.nan)\n",
    "pcf = pcf.replace(0,np.nan)\n",
    "bsf.head()\n",
    "merge = pd.concat([bsf,pcf],axis=1)\n",
    "merge.head()"
   ]
  },
  {
   "cell_type": "markdown",
   "metadata": {},
   "source": [
    "# Missing Values"
   ]
  },
  {
   "cell_type": "code",
   "execution_count": null,
   "metadata": {},
   "outputs": [],
   "source": [
    "import missingno as msno\n",
    "#visualization of missing data\n",
    "ax=msno.bar(merge,figsize=(12, 6))\n",
    "plt.title('Missing Data Analysis', size=12)\n",
    "ax.set_ylabel('Fraction of data points',size=12)\n",
    "plt.savefig(os.path.join(OUT_FOLDER,'1_missing_value.png'))\n",
    "plt.tight_layout()\n",
    "plt.show()"
   ]
  },
  {
   "cell_type": "code",
   "execution_count": null,
   "metadata": {},
   "outputs": [],
   "source": [
    "#print(data.shape)\n",
    "msno.matrix(merge, figsize=(12, 6))\n",
    "#plt.title('Missing Data')\n",
    "plt.savefig(os.path.join(OUT_FOLDER,'missing_value_matrix.png'))\n",
    "plt.show()"
   ]
  },
  {
   "cell_type": "code",
   "execution_count": null,
   "metadata": {},
   "outputs": [],
   "source": [
    "mean_intesity = np.log10(merge.mean(axis=1))\n",
    "na_sum = merge.isna().sum(axis=1).astype(int)\n",
    "plt.scatter(mean_intesity,na_sum)\n",
    "plt.xlabel('Log-Intensity')\n",
    "plt.ylabel('missing_values')\n",
    "plt.title('intensity vs missing values')\n",
    "plt.show()"
   ]
  },
  {
   "cell_type": "markdown",
   "metadata": {},
   "source": [
    "# Normalisation"
   ]
  },
  {
   "cell_type": "code",
   "execution_count": null,
   "metadata": {},
   "outputs": [],
   "source": [
    "palette=['r']*len(bsf_cols)+['b']*len(pcf_cols)\n",
    "palette_g = ['r','b']\n",
    "color_dictionary = {'r':'BSF','b':'PCF'}\n",
    "\n",
    "\n",
    "fig,ax=plt.subplots(figsize=(12,4))\n",
    "sns.boxplot(data=np.log10(merge),showfliers=False,palette=palette,ax=ax)\n",
    "plt.title('Value Distribution')\n",
    "plt.xlabel('Log10 LFQ')\n",
    "plt.xticks(rotation=45,ha='right')\n",
    "plt.savefig(os.path.join(OUT_FOLDER,'4_value_distribution_box.png'))\n",
    "plt.show()"
   ]
  },
  {
   "cell_type": "code",
   "execution_count": null,
   "metadata": {},
   "outputs": [],
   "source": [
    "#https://codereview.stackexchange.com/questions/25417/is-there-a-better-way-to-make-a-function-silent-on-need\n",
    "class NoStdStreams(object):\n",
    "    def __init__(self, stdout = None, stderr = None):\n",
    "        self.devnull = open(os.devnull,'w')\n",
    "        self._stdout = stdout or self.devnull or sys.stdout\n",
    "        self._stderr = stderr or self.devnull or sys.stderr\n",
    "\n",
    "    def __enter__(self):\n",
    "        self.old_stdout, self.old_stderr = sys.stdout, sys.stderr\n",
    "        self.old_stdout.flush(); self.old_stderr.flush()\n",
    "        sys.stdout, sys.stderr = self._stdout, self._stderr\n",
    "\n",
    "    def __exit__(self, exc_type, exc_value, traceback):\n",
    "        self._stdout.flush(); self._stderr.flush()\n",
    "        sys.stdout = self.old_stdout\n",
    "        sys.stderr = self.old_stderr\n",
    "        self.devnull.close()\n",
    "\n",
    "with NoStdStreams():\n",
    "    merge_normed = PTUT.norm_loading(merge)\n",
    "\n",
    "fig,ax=plt.subplots(figsize=(12,4))\n",
    "sns.boxplot(data=np.log10(merge_normed),showfliers=False,palette=palette,ax=ax)\n",
    "plt.title('Value Distribution')\n",
    "plt.xlabel('Log10 LFQ')\n",
    "plt.xticks(rotation=45,ha='right')\n",
    "plt.savefig(os.path.join(OUT_FOLDER,'4_value_distribution_box.png'))\n",
    "plt.show()"
   ]
  },
  {
   "cell_type": "code",
   "execution_count": null,
   "metadata": {},
   "outputs": [],
   "source": [
    "#merge_normed['bsf_median']=merge_normed[bsf_cols].median(axis=1,skipna=True)\n",
    "#merge_normed['pcf_median']=merge_normed[pcf_cols].median(axis=1,skipna=True)\n",
    "#merge_normed.head()"
   ]
  },
  {
   "cell_type": "code",
   "execution_count": null,
   "metadata": {},
   "outputs": [],
   "source": [
    "merge_normed=merge_normed.replace(0,np.nan)"
   ]
  },
  {
   "cell_type": "code",
   "execution_count": null,
   "metadata": {},
   "outputs": [],
   "source": [
    "log_merge_normed = np.log10(merge_normed)\n",
    "log_merge_normed.head()"
   ]
  },
  {
   "cell_type": "code",
   "execution_count": null,
   "metadata": {},
   "outputs": [],
   "source": [
    "merge_normed_BSF = merge_normed[[n for n in merge_normed.columns if n.startswith('BSF_')]]\n",
    "merge_normed_PCF = merge_normed[[n for n in merge_normed.columns if n.startswith('PCF_')]]\n",
    "#log_merge_normed_BSF_m1=log_merge_normed_BSF-1\n",
    "#log_merge_normed_PCF_m1=log_merge_normed_PCF-1"
   ]
  },
  {
   "cell_type": "code",
   "execution_count": null,
   "metadata": {},
   "outputs": [],
   "source": [
    "na_bsf = merge_normed_BSF.isna().sum(axis=1)\n",
    "na_bsf.plot(kind='hist')\n",
    "print(na_bsf.describe())\n",
    "log_merge_normed_BSF[na_bsf>10]=np.nan"
   ]
  },
  {
   "cell_type": "code",
   "execution_count": null,
   "metadata": {},
   "outputs": [],
   "source": [
    "na_pcf = merge_normed_PCF.isna().sum(axis=1)\n",
    "na_pcf.plot(kind='hist')\n",
    "print(na_pcf.describe())\n",
    "log_merge_normed_PCF[na_pcf>19]=np.nan"
   ]
  },
  {
   "cell_type": "markdown",
   "metadata": {},
   "source": [
    "# Input Missing Values"
   ]
  },
  {
   "cell_type": "code",
   "execution_count": null,
   "metadata": {},
   "outputs": [],
   "source": [
    "def get_random(in_col, strategy):\n",
    "    if strategy == 'small':\n",
    "        mean_random = in_col[in_col>0].min()\n",
    "        std_random = mean_random*0.05\n",
    "        random_values = np.random.normal(mean_random, \n",
    "                                         scale=std_random, \n",
    "                                         size=in_col.shape[0])\n",
    "    if strategy == 'median':\n",
    "        pass\n",
    "        \n",
    "    return  random_values\n",
    "\n",
    "#add a small random value to each element\n",
    "#of a cloumn, optionally plots the distribution\n",
    "#of the random values\n",
    "def impute(in_col, ax=False, strategy='small'):\n",
    "    random_values = get_random(in_col, strategy=strategy)\n",
    "    if ax:\n",
    "        np.log10(pd.Series(random_values)).plot(kind='hist',histtype='step', \n",
    "                          density=True,ax=ax,label=in_col.name)  \n",
    "    \n",
    "    fake_col = in_col.copy()\n",
    "    fake_col = fake_col+random_values\n",
    "    index = in_col[in_col==0].index.values \n",
    "    in_col.loc[index] = fake_col.loc[index] \n",
    "    return in_col  "
   ]
  },
  {
   "cell_type": "code",
   "execution_count": null,
   "metadata": {},
   "outputs": [],
   "source": [
    "log_merge_normed.head()"
   ]
  },
  {
   "cell_type": "code",
   "execution_count": null,
   "metadata": {},
   "outputs": [],
   "source": [
    "for n in log_merge_normed.columns:\n",
    "    log_merge_normed[n] = impute(log_merge_normed[n].fillna(0))"
   ]
  },
  {
   "cell_type": "code",
   "execution_count": null,
   "metadata": {},
   "outputs": [],
   "source": [
    "imputed_X = log_merge_normed.copy()"
   ]
  },
  {
   "cell_type": "code",
   "execution_count": null,
   "metadata": {},
   "outputs": [],
   "source": [
    "#imputed_X.loc[[172]].plot(kind='bar')"
   ]
  },
  {
   "cell_type": "code",
   "execution_count": null,
   "metadata": {},
   "outputs": [],
   "source": [
    "#fig,ax=plt.subplots(figsize=(8,8))\n",
    "#imputed_X.plot(kind='scatter',x='log_pcf_median',y='log_bsf_median',ax=ax)\n",
    "#imputed_X.loc[[172]].plot(kind='scatter',x='log_pcf_median',y='log_bsf_median',ax=ax,c='r')"
   ]
  },
  {
   "cell_type": "code",
   "execution_count": null,
   "metadata": {},
   "outputs": [],
   "source": [
    "imputed_X['bsf_median']=imputed_X[bsf_cols].median(axis=1)\n",
    "imputed_X['pcf_median']=imputed_X[pcf_cols].median(axis=1)"
   ]
  },
  {
   "cell_type": "code",
   "execution_count": null,
   "metadata": {},
   "outputs": [],
   "source": [
    "imputed_X['rank_bsf_median']=imputed_X['bsf_median'].rank(method='min')\n",
    "imputed_X['rank_pcf_median']=imputed_X['pcf_median'].rank(method='min')"
   ]
  },
  {
   "cell_type": "code",
   "execution_count": null,
   "metadata": {},
   "outputs": [],
   "source": [
    "fig,ax=plt.subplots(figsize=(8,8))\n",
    "imputed_X.plot(kind='scatter',x='bsf_median',y='pcf_median',ax=ax)\n",
    "imputed_X.loc[[172]].plot(kind='scatter',x='bsf_median',y='pcf_median',ax=ax,c='r')"
   ]
  },
  {
   "cell_type": "code",
   "execution_count": null,
   "metadata": {},
   "outputs": [],
   "source": [
    "fig,ax=plt.subplots(figsize=(8,8))\n",
    "imputed_X.plot(kind='scatter',x='rank_bsf_median',y='rank_pcf_median',ax=ax)\n",
    "imputed_X.loc[[172]].plot(kind='scatter',x='rank_bsf_median',y='rank_pcf_median',ax=ax,c='r')"
   ]
  },
  {
   "cell_type": "code",
   "execution_count": null,
   "metadata": {},
   "outputs": [],
   "source": [
    "df.head()"
   ]
  },
  {
   "cell_type": "code",
   "execution_count": null,
   "metadata": {},
   "outputs": [],
   "source": [
    "temp = PTUT.mod_df(imputed_X.join(df,how='left'))\n",
    "temp['Gene_acc']=np.arange(temp.shape[0])\n",
    "temp.rename({'desc':'Desc'},axis=1,inplace=True)\n",
    "temp.head()"
   ]
  },
  {
   "cell_type": "markdown",
   "metadata": {},
   "source": [
    "# Save Data for Web App"
   ]
  },
  {
   "cell_type": "code",
   "execution_count": null,
   "metadata": {},
   "outputs": [],
   "source": [
    "!mkdir -p 'web_data/E927'"
   ]
  },
  {
   "cell_type": "code",
   "execution_count": null,
   "metadata": {},
   "outputs": [],
   "source": [
    "temp[['Gene_acc','Gene_id','bsf_median',\n",
    "      'pcf_median','rank_bsf_median','rank_pcf_median','Desc',\n",
    "      'Protein IDs']].to_csv('web_data/E927/indata.csv',index=False)"
   ]
  },
  {
   "cell_type": "code",
   "execution_count": null,
   "metadata": {},
   "outputs": [],
   "source": [
    "pcf_cols"
   ]
  },
  {
   "cell_type": "code",
   "execution_count": null,
   "metadata": {},
   "outputs": [],
   "source": [
    "temp2 = merge_normed.fillna(0)\n",
    "temp2 = PTUT.mod_df(temp2.join(df,how='left'))\n",
    "\n",
    "temp2['Gene_acc']=np.arange(temp2.shape[0])\n",
    "temp2.rename({'desc':'Desc'},axis=1,inplace=True)\n",
    "#temp2[list(bsf_cols)+list(pcf_cols)]=np.log10(temp2[list(bsf_cols)+list(pcf_cols)])\n",
    "\n",
    "temp2[['Gene_acc','Gene_id']+\n",
    "      list(bsf_cols)+list(pcf_cols)+['Desc','Protein IDs']].to_csv('web_data/E927/indata2.csv',index=False)\n",
    "\n"
   ]
  },
  {
   "cell_type": "code",
   "execution_count": null,
   "metadata": {},
   "outputs": [],
   "source": []
  }
 ],
 "metadata": {
  "kernelspec": {
   "display_name": "Python 3",
   "language": "python",
   "name": "python3"
  },
  "language_info": {
   "codemirror_mode": {
    "name": "ipython",
    "version": 3
   },
   "file_extension": ".py",
   "mimetype": "text/x-python",
   "name": "python",
   "nbconvert_exporter": "python",
   "pygments_lexer": "ipython3",
   "version": "3.7.1"
  },
  "toc": {
   "base_numbering": 1,
   "nav_menu": {},
   "number_sections": true,
   "sideBar": true,
   "skip_h1_title": false,
   "title_cell": "Table of Contents",
   "title_sidebar": "Contents",
   "toc_cell": false,
   "toc_position": {},
   "toc_section_display": true,
   "toc_window_display": true
  }
 },
 "nbformat": 4,
 "nbformat_minor": 4
}
